{
  "nbformat": 4,
  "nbformat_minor": 0,
  "metadata": {
    "colab": {
      "provenance": [],
      "include_colab_link": true
    },
    "kernelspec": {
      "name": "python3",
      "display_name": "Python 3"
    }
  },
  "cells": [
    {
      "cell_type": "markdown",
      "metadata": {
        "id": "view-in-github",
        "colab_type": "text"
      },
      "source": [
        "<a href=\"https://colab.research.google.com/github/cnhzgb/MachineL/blob/main/Transformer.ipynb\" target=\"_parent\"><img src=\"https://colab.research.google.com/assets/colab-badge.svg\" alt=\"Open In Colab\"/></a>"
      ]
    },
    {
      "cell_type": "code",
      "metadata": {
        "id": "VIIAGxzT8h_t"
      },
      "source": [
        "import torch\n",
        "from torch import nn\n",
        "from torch import optim\n",
        "from torch.utils import data as Data\n",
        "import numpy as np"
      ],
      "execution_count": null,
      "outputs": []
    },
    {
      "cell_type": "code",
      "metadata": {
        "id": "SSMxTYJzWhXH"
      },
      "source": [
        "d_model = 512 # embedding size\n",
        "max_len = 1024 # max length of sequence\n",
        "d_ff = 2048 # feedforward nerual network  dimension\n",
        "d_k = d_v = 64 # dimension of k(same as q) and v\n",
        "n_layers = 6 # number of encoder and decoder layers\n",
        "n_heads = 8 # number of heads in multihead attention\n",
        "p_drop = 0.1 # propability of dropout"
      ],
      "execution_count": null,
      "outputs": []
    },
    {
      "cell_type": "code",
      "metadata": {
        "id": "TgvM4Rx1LF0A"
      },
      "source": [
        "def get_attn_pad_mask(seq_q, seq_k):\n",
        "  '''\n",
        "  Padding, because of unequal in source_len and target_len.\n",
        "\n",
        "  parameters:\n",
        "  seq_q: [batch, seq_len]\n",
        "  seq_k: [batch, seq_len]\n",
        "\n",
        "  return:\n",
        "  mask: [batch, len_q, len_k]\n",
        "\n",
        "\n",
        "  '''\n",
        "  batch, len_q = seq_q.size()\n",
        "  batch, len_k = seq_k.size()\n",
        "  # we define index of PAD is 0, if tensor equals (zero) PAD tokens\n",
        "  pad_attn_mask = seq_k.data.eq(0).unsqueeze(1) # [batch, 1, len_k]\n",
        "\n",
        "  return pad_attn_mask.expand(batch, len_q, len_k) # [batch, len_q, len_k]\n",
        "\n",
        "def get_attn_subsequent_mask(seq):\n",
        "  '''\n",
        "  Build attention mask matrix for decoder when it autoregressing.\n",
        "\n",
        "  parameters:\n",
        "  seq: [batch, target_len]\n",
        "\n",
        "  return:\n",
        "  subsequent_mask: [batch, target_len, target_len]\n",
        "  '''\n",
        "  attn_shape = [seq.size(0), seq.size(1), seq.size(1)] # [batch, target_len, target_len]\n",
        "  subsequent_mask = np.triu(np.ones(attn_shape), k=1) # [batch, target_len, target_len]\n",
        "  subsequent_mask = torch.from_numpy(subsequent_mask)\n",
        "\n",
        "  return subsequent_mask # [batch, target_len, target_len]"
      ],
      "execution_count": null,
      "outputs": []
    },
    {
      "cell_type": "markdown",
      "metadata": {
        "id": "VMzZlZrnlO_I"
      },
      "source": [
        "$$\n",
        "PE(pos, 2i) = \\sin(pos / 10000^{\\frac{2i}{d_{model}}}) \\\\\n",
        "PE(pos, 2i+1) = \\cos(pos / 10000^{\\frac{2i}{d_{model}}})\n",
        "$$"
      ]
    },
    {
      "cell_type": "code",
      "metadata": {
        "id": "xoJxqjC28wcW"
      },
      "source": [
        "class PositionalEncoding(nn.Module):\n",
        "\n",
        "  def __init__(self, d_model, dropout=.1, max_len=1024):\n",
        "    super(PositionalEncoding, self).__init__()\n",
        "    self.dropout = nn.Dropout(p=p_drop)\n",
        "\n",
        "    positional_encoding = torch.zeros(max_len, d_model) # [max_len, d_model]\n",
        "    position = torch.arange(0, max_len).float().unsqueeze(1) # [max_len, 1]\n",
        "\n",
        "    div_term = torch.exp(torch.arange(0, d_model, 2).float() *\n",
        "                         (-torch.log(torch.Tensor([10000])) / d_model)) # [max_len / 2]\n",
        "\n",
        "    positional_encoding[:, 0::2] = torch.sin(position * div_term) # even\n",
        "    positional_encoding[:, 1::2] = torch.cos(position * div_term) # odd\n",
        "\n",
        "    # [max_len, d_model] -> [1, max_len, d_model] -> [max_len, 1, d_model]\n",
        "    positional_encoding = positional_encoding.unsqueeze(0).transpose(0, 1)\n",
        "\n",
        "    # register pe to buffer and require no grads\n",
        "    self.register_buffer('pe', positional_encoding)\n",
        "\n",
        "  def forward(self, x):\n",
        "    # x: [seq_len, batch, d_model]\n",
        "    # we can add positional encoding to x directly, and ignore other dimension\n",
        "    x = x + self.pe[:x.size(0), ...]\n",
        "\n",
        "    return self.dropout(x)"
      ],
      "execution_count": null,
      "outputs": []
    },
    {
      "cell_type": "code",
      "metadata": {
        "id": "gwX1Y40l9NlT"
      },
      "source": [
        "class Seq2SeqDataset(Data.Dataset):\n",
        "\n",
        "  def __init__(self, encoder_input, decoder_input, decoder_output):\n",
        "    super(Seq2SeqDataset, self).__init__()\n",
        "    self.encoder_input = encoder_input\n",
        "    self.decoder_input = decoder_input\n",
        "    self.decoder_output = decoder_output\n",
        "\n",
        "  def __len__(self):\n",
        "    return self.encoder_input.shape[0]\n",
        "\n",
        "  def __getitem__(self, idx):\n",
        "    return self.encoder_input[idx], self.decoder_input[idx], self.decoder_output[idx]"
      ],
      "execution_count": null,
      "outputs": []
    },
    {
      "cell_type": "markdown",
      "metadata": {
        "id": "fQkBW6HzvJMn"
      },
      "source": [
        "$$\n",
        "\\operatorname{Attention}(Q, K, V) = \\operatorname{softmax}(\\frac{QK^T}{\\sqrt{d_k}})V\n",
        "$$"
      ]
    },
    {
      "cell_type": "code",
      "metadata": {
        "id": "aa1pO0L4Ji9V"
      },
      "source": [
        "class ScaledDotProductAttention(nn.Module):\n",
        "\n",
        "  def __init__(self):\n",
        "    super(ScaledDotProductAttention, self).__init__()\n",
        "\n",
        "  def forward(self, Q, K, V, attn_mask):\n",
        "    '''\n",
        "    Q: [batch, n_heads, len_q, d_k]\n",
        "    K: [batch, n_heads, len_k, d_k]\n",
        "    V: [batch, n_heads, len_v, d_v]\n",
        "    attn_mask: [batch, n_heads, seq_len, seq_len]\n",
        "    '''\n",
        "    scores = torch.matmul(Q, K.transpose(-1, -2)) / np.sqrt(d_k) # [batch, n_heads, len_q, len_k]\n",
        "    scores.masked_fill_(attn_mask, -1e9)\n",
        "\n",
        "    attn = nn.Softmax(dim=-1)(scores) # [batch, n_heads, len_q, len_k]\n",
        "    prob = torch.matmul(attn, V) # [batch, n_heads, len_q, d_v]\n",
        "    return prob, attn\n"
      ],
      "execution_count": null,
      "outputs": []
    },
    {
      "cell_type": "code",
      "metadata": {
        "id": "Kor-ycc0KUeY"
      },
      "source": [
        "# x = torch.Tensor([[1, 0, 2, 3], [2, 3, 1, 2]])\n",
        "# mask = torch.BoolTensor([1, 0, 0, 0])\n",
        "# x.masked_fill(mask, -1e9)\n",
        "\n",
        "# x = torch.rand(2, 8, 3, 64)\n",
        "# a, b = ScaledDotProductAttention()(x, x, x, x)\n",
        "# a.size(), b.size()"
      ],
      "execution_count": null,
      "outputs": []
    },
    {
      "cell_type": "markdown",
      "metadata": {
        "id": "PURB9CY0woN4"
      },
      "source": [
        "$$\n",
        "\\begin{aligned}\n",
        "\\operatorname{MultiHead}(Q, K, V) &= \\operatorname{Concat}(\\text{head}_1, \\text{head}_2, \\dots, \\text{head}_h)W^O \\\\\n",
        "\\text{where } \\text{head}_i &= \\operatorname{Attention}(QW^Q_i, KW^K_i, VW^V_i)\n",
        "\\end{aligned}\n",
        "$$\n"
      ]
    },
    {
      "cell_type": "code",
      "metadata": {
        "id": "48HS30HtKjLm"
      },
      "source": [
        "class MultiHeadAttention(nn.Module):\n",
        "\n",
        "  def __init__(self, n_heads=8):\n",
        "    super(MultiHeadAttention, self).__init__()\n",
        "    # do not use more instance to implement multihead attention\n",
        "    # it can be complete in one matrix\n",
        "    self.n_heads = n_heads\n",
        "\n",
        "    # we can't use bias because there is no bias term in formular\n",
        "    self.W_Q = nn.Linear(d_model, d_k * n_heads, bias=False)\n",
        "    self.W_K = nn.Linear(d_model, d_k * n_heads, bias=False)\n",
        "    self.W_V = nn.Linear(d_model, d_v * n_heads, bias=False)\n",
        "    self.fc = nn.Linear(d_v * n_heads, d_model, bias=False)\n",
        "    self.layer_norm = nn.LayerNorm(d_model)\n",
        "\n",
        "  def forward(self, input_Q, input_K, input_V, attn_mask):\n",
        "    '''\n",
        "    To make sure multihead attention can be used both in encoder and decoder,\n",
        "    we use Q, K, V respectively.\n",
        "    input_Q: [batch, len_q, d_model]\n",
        "    input_K: [batch, len_k, d_model]\n",
        "    input_V: [batch, len_v, d_model]\n",
        "    '''\n",
        "    residual, batch = input_Q, input_Q.size(0)\n",
        "\n",
        "    # [batch, len_q, d_model] -- matmul W_Q --> [batch, len_q, d_q * n_heads] -- view -->\n",
        "    # [batch, len_q, n_heads, d_k,] -- transpose --> [batch, n_heads, len_q, d_k]\n",
        "\n",
        "    Q = self.W_Q(input_Q).view(batch, -1, n_heads, d_k).transpose(1, 2) # [batch, n_heads, len_q, d_k]\n",
        "    K = self.W_K(input_K).view(batch, -1, n_heads, d_k).transpose(1, 2) # [batch, n_heads, len_k, d_k]\n",
        "    V = self.W_V(input_V).view(batch, -1, n_heads, d_v).transpose(1, 2) # [batch, n_heads, len_v, d_v]\n",
        "\n",
        "    attn_mask = attn_mask.unsqueeze(1).repeat(1, n_heads, 1, 1) # [batch, n_heads, seq_len, seq_len]\n",
        "\n",
        "    # prob: [batch, n_heads, len_q, d_v] attn: [batch, n_heads, len_q, len_k]\n",
        "    prob, attn = ScaledDotProductAttention()(Q, K, V, attn_mask)\n",
        "\n",
        "    prob = prob.transpose(1, 2).contiguous() # [batch, len_q, n_heads, d_v]\n",
        "    prob = prob.view(batch, -1, n_heads * d_v).contiguous() # [batch, len_q, n_heads * d_v]\n",
        "\n",
        "    output = self.fc(prob) # [batch, len_q, d_model]\n",
        "\n",
        "    return self.layer_norm(residual + output), attn\n"
      ],
      "execution_count": null,
      "outputs": []
    },
    {
      "cell_type": "markdown",
      "metadata": {
        "id": "SXe1VTLzwPTl"
      },
      "source": [
        "$$\n",
        "\\operatorname{FFN}(x)=\\operatorname{ReLU}(xW_1+b_1)W_2 + b_2\n",
        "$$"
      ]
    },
    {
      "cell_type": "code",
      "metadata": {
        "id": "HEq9OhWXYhoH"
      },
      "source": [
        "class FeedForwardNetwork(nn.Module):\n",
        "  '''\n",
        "  Using nn.Conv1d replace nn.Linear to implements FFN.\n",
        "  '''\n",
        "  def __init__(self):\n",
        "    super(FeedForwardNetwork, self).__init__()\n",
        "    # self.ff1 = nn.Linear(d_model, d_ff)\n",
        "    # self.ff2 = nn.Linear(d_ff, d_model)\n",
        "    self.ff1 = nn.Conv1d(d_model, d_ff, 1)\n",
        "    self.ff2 = nn.Conv1d(d_ff, d_model, 1)\n",
        "    self.relu = nn.ReLU()\n",
        "\n",
        "    self.dropout = nn.Dropout(p=p_drop)\n",
        "    self.layer_norm = nn.LayerNorm(d_model)\n",
        "\n",
        "  def forward(self, x):\n",
        "    # x: [batch, seq_len, d_model]\n",
        "    residual = x\n",
        "    x = x.transpose(1, 2) # [batch, d_model, seq_len]\n",
        "    x = self.ff1(x)\n",
        "    x = self.relu(x)\n",
        "    x = self.ff2(x)\n",
        "    x = x.transpose(1, 2) # [batch, seq_len, d_model]\n",
        "\n",
        "    return self.layer_norm(residual + x)"
      ],
      "execution_count": null,
      "outputs": []
    },
    {
      "cell_type": "code",
      "metadata": {
        "id": "KwREm_zUF4FV"
      },
      "source": [
        "# x = torch.rand(1024, 512).unsqueeze(1)\n",
        "# f = FeedForwardNetwork()\n",
        "# f(x).size()\n",
        "\n",
        "# nn.Linear(512, 2048)(x).size()"
      ],
      "execution_count": null,
      "outputs": []
    },
    {
      "cell_type": "code",
      "metadata": {
        "id": "68Kz08Y6QdFf"
      },
      "source": [
        "class EncoderLayer(nn.Module):\n",
        "\n",
        "  def __init__(self):\n",
        "    super(EncoderLayer, self).__init__()\n",
        "    self.encoder_self_attn = MultiHeadAttention()\n",
        "    self.ffn = FeedForwardNetwork()\n",
        "\n",
        "  def forward(self, encoder_input, encoder_pad_mask):\n",
        "    '''\n",
        "    encoder_input: [batch, source_len, d_model]\n",
        "    encoder_pad_mask: [batch, n_heads, source_len, source_len]\n",
        "\n",
        "    encoder_output: [batch, source_len, d_model]\n",
        "    attn: [batch, n_heads, source_len, source_len]\n",
        "    '''\n",
        "    encoder_output, attn = self.encoder_self_attn(encoder_input, encoder_input, encoder_input, encoder_pad_mask)\n",
        "    encoder_output = self.ffn(encoder_output) # [batch, source_len, d_model]\n",
        "\n",
        "    return encoder_output, attn\n",
        "\n",
        "class DecoderLayer(nn.Module):\n",
        "\n",
        "  def __init__(self):\n",
        "    super(DecoderLayer, self).__init__()\n",
        "    self.decoder_self_attn = MultiHeadAttention()\n",
        "    self.encoder_decoder_attn = MultiHeadAttention()\n",
        "    self.ffn = FeedForwardNetwork()\n",
        "\n",
        "  def forward(self, decoder_input, encoder_output, decoder_self_mask, decoder_encoder_mask):\n",
        "    '''\n",
        "    decoder_input: [batch, target_len, d_mdoel]\n",
        "    encoder_output: [batch, source_len, d_model]\n",
        "    decoder_self_mask: [batch, target_len, target_len]\n",
        "    decoder_encoder_mask: [batch, target_len, source_len]\n",
        "    '''\n",
        "    # masked mutlihead attention\n",
        "    # Q, K, V all from decoder it self\n",
        "    # decoder_output: [batch, target_len, d_model]\n",
        "    # decoder_self_attn: [batch, n_heads, target_len, target_len]\n",
        "    decoder_output, decoder_self_attn = self.decoder_self_attn(decoder_input, decoder_input, decoder_input, decoder_self_mask)\n",
        "\n",
        "    # Q from decoder, K, V from encoder\n",
        "    # decoder_output: [batch, target_len, d_model]\n",
        "    # decoder_encoder_attn: [batch, n_heads, target_len, source_len]\n",
        "    decoder_output, decoder_encoder_attn = self.encoder_decoder_attn(decoder_input, encoder_output, encoder_output, decoder_encoder_mask)\n",
        "    decoder_output = self.ffn(decoder_output) # [batch, target_len, d_model]\n",
        "\n",
        "    return decoder_output, decoder_self_attn, decoder_encoder_attn\n",
        "\n",
        "\n",
        "class Encoder(nn.Module):\n",
        "\n",
        "  def __init__(self):\n",
        "    super(Encoder, self).__init__()\n",
        "    self.source_embedding = nn.Embedding(source_vocab_size, d_model)\n",
        "    self.positional_embedding = PositionalEncoding(d_model)\n",
        "    self.layers = nn.ModuleList([EncoderLayer() for layer in range(n_layers)])\n",
        "\n",
        "  def forward(self, encoder_input):\n",
        "    # encoder_input: [batch, source_len]\n",
        "    encoder_output = self.source_embedding(encoder_input) # [batch, source_len, d_model]\n",
        "    encoder_output = self.positional_embedding(encoder_output.transpose(0, 1)).transpose(0, 1) # [batch, source_len, d_model]\n",
        "\n",
        "    encoder_self_attn_mask = get_attn_pad_mask(encoder_input, encoder_input) # [batch, source_len, source_len]\n",
        "    encoder_self_attns = list()\n",
        "    for layer in self.layers:\n",
        "      # encoder_output: [batch, source_len, d_model]\n",
        "      # encoder_self_attn: [batch, n_heads, source_len, source_len]\n",
        "      encoder_output, encoder_self_attn = layer(encoder_output, encoder_self_attn_mask)\n",
        "      encoder_self_attns.append(encoder_self_attn)\n",
        "\n",
        "    return encoder_output, encoder_self_attns\n",
        "\n",
        "class Decoder(nn.Module):\n",
        "\n",
        "  def __init__(self):\n",
        "    super(Decoder, self).__init__()\n",
        "    self.target_embedding = nn.Embedding(target_vocab_size, d_model)\n",
        "    self.positional_embedding = PositionalEncoding(d_model)\n",
        "    self.layers = nn.ModuleList([DecoderLayer() for layer in range(n_layers)])\n",
        "\n",
        "  def forward(self, decoder_input, encoder_input, encoder_output):\n",
        "    '''\n",
        "    decoder_input: [batch, target_len]\n",
        "    encoder_input: [batch, source_len]\n",
        "    encoder_output: [batch, source_len, d_model]\n",
        "    '''\n",
        "    decoder_output = self.target_embedding(decoder_input) # [batch, target_len, d_model]\n",
        "    decoder_output = self.positional_embedding(decoder_output.transpose(0, 1)).transpose(0, 1) # [batch, target_len, d_model]\n",
        "    decoder_self_attn_mask = get_attn_pad_mask(decoder_input, decoder_input) # [batch, target_len, d_model]\n",
        "    decoder_subsequent_mask = get_attn_subsequent_mask(decoder_input) # [batch, target_len, target_len]\n",
        "\n",
        "    decoder_encoder_attn_mask = get_attn_pad_mask(decoder_input, encoder_input) # [batch, target_len, source_len]\n",
        "\n",
        "    decoder_self_mask = torch.gt(decoder_self_attn_mask + decoder_subsequent_mask, 0)\n",
        "    decoder_self_attns, decoder_encoder_attns = [], []\n",
        "\n",
        "    for layer in self.layers:\n",
        "      # decoder_output: [batch, target_len, d_model]\n",
        "      # decoder_self_attn: [batch, n_heads, target_len, target_len]\n",
        "      # decoder_encoder_attn: [batch, n_heads, target_len, source_len]\n",
        "      decoder_output, decoder_self_attn, decoder_encoder_attn = layer(decoder_output, encoder_output, decoder_self_mask, decoder_encoder_attn_mask)\n",
        "      decoder_self_attns.append(decoder_self_attn)\n",
        "      decoder_encoder_attns.append(decoder_encoder_attn)\n",
        "\n",
        "    return decoder_output, decoder_self_attns, decoder_encoder_attns"
      ],
      "execution_count": null,
      "outputs": []
    },
    {
      "cell_type": "code",
      "metadata": {
        "colab": {
          "base_uri": "https://localhost:8080/"
        },
        "id": "w0gGS8Cyo8tX",
        "outputId": "d71a8f4c-8d17-4f22-eac8-77bd2703072a"
      },
      "source": [
        "x = torch.Tensor([1, 0, 1, 0])\n",
        "torch.gt(x + torch.Tensor([0, 1, 0, 0]), 0)"
      ],
      "execution_count": null,
      "outputs": [
        {
          "output_type": "execute_result",
          "data": {
            "text/plain": [
              "tensor([ True,  True,  True, False])"
            ]
          },
          "metadata": {
            "tags": []
          },
          "execution_count": 29
        }
      ]
    },
    {
      "cell_type": "code",
      "metadata": {
        "id": "Jmj9AHqLT0dP"
      },
      "source": [
        "class Transformer(nn.Module):\n",
        "\n",
        "  def __init__(self):\n",
        "    super(Transformer, self).__init__()\n",
        "\n",
        "    self.encoder = Encoder()\n",
        "    self.decoder = Decoder()\n",
        "    self.projection = nn.Linear(d_model, target_vocab_size, bias=False)\n",
        "\n",
        "  def forward(self, encoder_input, decoder_input):\n",
        "    '''\n",
        "    encoder_input: [batch, source_len]\n",
        "    decoder_input: [batch, target_len]\n",
        "    '''\n",
        "    # encoder_output: [batch, source_len, d_model]\n",
        "    # encoder_attns: [n_layers, batch, n_heads, source_len, source_len]\n",
        "    encoder_output, encoder_attns = self.encoder(encoder_input)\n",
        "    # decoder_output: [batch, target_len, d_model]\n",
        "    # decoder_self_attns: [n_layers, batch, n_heads, target_len, target_len]\n",
        "    # decoder_encoder_attns: [n_layers, batch, n_heads, target_len, source_len]\n",
        "    decoder_output, decoder_self_attns, decoder_encoder_attns = self.decoder(decoder_input, encoder_input, encoder_output)\n",
        "    decoder_logits = self.projection(decoder_output) # [batch, target_len, target_vocab_size]\n",
        "\n",
        "    # decoder_logits: [batch * target_len, target_vocab_size]\n",
        "    return decoder_logits.view(-1, decoder_logits.size(-1)), encoder_attns, decoder_self_attns, decoder_encoder_attns"
      ],
      "execution_count": null,
      "outputs": []
    },
    {
      "cell_type": "code",
      "metadata": {
        "id": "1Ls7oA86xe2V"
      },
      "source": [
        "sentences = [\n",
        "        # enc_input           dec_input         dec_output\n",
        "        ['ich mochte ein bier P', 'S i want a beer .', 'i want a beer . E'],\n",
        "        ['ich mochte ein cola P', 'S i want a coke .', 'i want a coke . E']\n",
        "]\n",
        "\n",
        "# Padding Should be Zero\n",
        "source_vocab = {'P' : 0, 'ich' : 1, 'mochte' : 2, 'ein' : 3, 'bier' : 4, 'cola' : 5}\n",
        "source_vocab_size = len(source_vocab)\n",
        "\n",
        "target_vocab = {'P' : 0, 'i' : 1, 'want' : 2, 'a' : 3, 'beer' : 4, 'coke' : 5, 'S' : 6, 'E' : 7, '.' : 8}\n",
        "idx2word = {i: w for i, w in enumerate(target_vocab)}\n",
        "target_vocab_size = len(target_vocab)\n",
        "source_len = 5 # max length of input sequence\n",
        "target_len = 6"
      ],
      "execution_count": null,
      "outputs": []
    },
    {
      "cell_type": "code",
      "metadata": {
        "id": "LKnTU7W43WdD"
      },
      "source": [
        "def make_data(sentences):\n",
        "  encoder_inputs, decoder_inputs, decoder_outputs = [], [], []\n",
        "  for i in range(len(sentences)):\n",
        "    encoder_input = [source_vocab[word] for word in sentences[i][0].split()]\n",
        "    decoder_input = [target_vocab[word] for word in sentences[i][1].split()]\n",
        "    decoder_output = [target_vocab[word] for word in sentences[i][2].split()]\n",
        "    encoder_inputs.append(encoder_input)\n",
        "    decoder_inputs.append(decoder_input)\n",
        "    decoder_outputs.append(decoder_output)\n",
        "\n",
        "  return torch.LongTensor(encoder_inputs), torch.LongTensor(decoder_inputs), torch.LongTensor(decoder_outputs)"
      ],
      "execution_count": null,
      "outputs": []
    },
    {
      "cell_type": "code",
      "metadata": {
        "id": "SnqJvO-2hchl"
      },
      "source": [
        "batch_size = 64\n",
        "epochs = 32\n",
        "lr = 1e-3\n",
        "\n",
        "device = torch.device('cuda' if torch.cuda.is_available() else 'cpu')\n",
        "model = Transformer().to(device)\n",
        "criterion = nn.CrossEntropyLoss(ignore_index=0)\n",
        "optimizer = optim.Adam(model.parameters(), lr=lr)\n",
        "encoder_inputs, decoder_inputs, decoder_outputs = make_data(sentences)\n",
        "dataset = Seq2SeqDataset(encoder_inputs, decoder_inputs, decoder_outputs)\n",
        "data_loader = Data.DataLoader(dataset, 2, True)"
      ],
      "execution_count": null,
      "outputs": []
    },
    {
      "cell_type": "code",
      "metadata": {
        "id": "WWk7fVkDWsSs",
        "colab": {
          "base_uri": "https://localhost:8080/"
        },
        "outputId": "b7c18f7e-c03d-4799-ab0a-e1726b0f5434"
      },
      "source": [
        "for epoch in range(epochs):\n",
        "  '''\n",
        "  encoder_input: [batch, source_len]\n",
        "  decoder_input: [batch, target_len]\n",
        "  decoder_ouput: [batch, target_len]\n",
        "  '''\n",
        "  for encoder_input, decoder_input, decoder_output in data_loader:\n",
        "    encoder_input = encoder_input.to(device)\n",
        "    decoder_input = decoder_input.to(device)\n",
        "    decoder_output = decoder_output.to(device)\n",
        "\n",
        "    output, encoder_attns, decoder_attns, decoder_encoder_attns = model(encoder_input, decoder_input)\n",
        "    loss = criterion(output, decoder_output.view(-1))\n",
        "\n",
        "    print('Epoch:', '%04d' % (epoch + 1), 'loss =', '{:.6f}'.format(loss))\n",
        "\n",
        "    optimizer.zero_grad()\n",
        "    loss.backward()\n",
        "    optimizer.step()"
      ],
      "execution_count": null,
      "outputs": [
        {
          "output_type": "stream",
          "text": [
            "Epoch: 0001 loss = 2.210672\n",
            "Epoch: 0002 loss = 0.871125\n",
            "Epoch: 0003 loss = 1.653220\n",
            "Epoch: 0004 loss = 1.280224\n",
            "Epoch: 0005 loss = 2.761842\n",
            "Epoch: 0006 loss = 3.543098\n",
            "Epoch: 0007 loss = 3.537732\n",
            "Epoch: 0008 loss = 1.724109\n",
            "Epoch: 0009 loss = 1.223293\n",
            "Epoch: 0010 loss = 1.135749\n",
            "Epoch: 0011 loss = 1.083706\n",
            "Epoch: 0012 loss = 0.908158\n",
            "Epoch: 0013 loss = 0.521601\n",
            "Epoch: 0014 loss = 0.330823\n",
            "Epoch: 0015 loss = 0.268935\n",
            "Epoch: 0016 loss = 0.227477\n",
            "Epoch: 0017 loss = 0.200834\n",
            "Epoch: 0018 loss = 0.209180\n",
            "Epoch: 0019 loss = 0.188584\n",
            "Epoch: 0020 loss = 0.166680\n",
            "Epoch: 0021 loss = 0.157806\n",
            "Epoch: 0022 loss = 0.137217\n",
            "Epoch: 0023 loss = 0.128506\n",
            "Epoch: 0024 loss = 0.127341\n",
            "Epoch: 0025 loss = 0.127648\n",
            "Epoch: 0026 loss = 0.126985\n",
            "Epoch: 0027 loss = 0.128219\n",
            "Epoch: 0028 loss = 0.132057\n",
            "Epoch: 0029 loss = 0.125822\n",
            "Epoch: 0030 loss = 0.125888\n",
            "Epoch: 0031 loss = 0.125317\n",
            "Epoch: 0032 loss = 0.121148\n"
          ],
          "name": "stdout"
        }
      ]
    },
    {
      "cell_type": "code",
      "metadata": {
        "id": "zE_ccVN8dCY_"
      },
      "source": [
        "import seaborn as sns\n",
        "import matplotlib.pyplot as plt"
      ],
      "execution_count": null,
      "outputs": []
    },
    {
      "cell_type": "code",
      "metadata": {
        "id": "00cYCxeAd6Dq",
        "colab": {
          "base_uri": "https://localhost:8080/",
          "height": 693
        },
        "outputId": "982d34fb-8b07-4d03-e03b-a45e516daa5b"
      },
      "source": [
        "n_layers = 4\n",
        "'''\n",
        "batch 1:\n",
        "[[1, 2, 3, 5, 0],\n",
        "[1, 2, 3, 4, 0]]\n",
        "'''\n",
        "temp_batch = 0\n",
        "plt.figure(figsize=(n_heads * 3, n_layers * 3 + 3))\n",
        "# encoder_attns: [n_layers, batch, n_heads, source_len, source_len]\n",
        "i = 0\n",
        "tokens = sentences[temp_batch][0].split()\n",
        "for layer in range(n_layers):\n",
        "  for head in range(n_heads):\n",
        "    i += 1\n",
        "    plt.subplot(n_layers, n_heads, i)\n",
        "\n",
        "    plt.title('Layer:{}, Head:{}'.format(layer+1, head+1))\n",
        "    if i % n_heads == 0:\n",
        "      cbar=True\n",
        "    else:\n",
        "      cbar=False\n",
        "    sns.heatmap(encoder_attns[layer][temp_batch][head].detach().numpy(), cmap='YlGnBu',\n",
        "            xticklabels=tokens, yticklabels=tokens, cbar=cbar, vmin=0, vmax=1);\n",
        "    plt.xticks([])\n",
        "    plt.yticks([])"
      ],
      "execution_count": null,
      "outputs": [
        {
          "output_type": "display_data",
          "data": {
            "image/png": "[encoded data removed]",
            "text/plain": [
              "<Figure size 1728x1080 with 36 Axes>"
            ]
          },
          "metadata": {
            "tags": [],
            "needs_background": "light"
          }
        }
      ]
    },
    {
      "cell_type": "code",
      "metadata": {
        "id": "JGwqkd9s8uDK"
      },
      "source": [
        "def greedy_search(model, encoder_input, start_symbol=target_vocab['S']):\n",
        "  '''\n",
        "  One sentence.\n",
        "  '''\n",
        "\n",
        "  # init for decoder\n",
        "  encoder_output, encoder_self_attns = model.encoder(encoder_input)\n",
        "  decoder_input = torch.zeros(1, target_len).type_as(encoder_input.data)\n",
        "  next_symbol = start_symbol\n",
        "\n",
        "  for i in range(target_len):\n",
        "    decoder_input[0][i] = next_symbol\n",
        "    # decoder_output: [batch(1), target_len, d_model]\n",
        "    decoder_output, _, _ = model.decoder(decoder_input, encoder_input, encoder_output)\n",
        "    projected = model.projection(decoder_output) # [batch, target_len, target_vocab_len]\n",
        "    projected = projected.squeeze(0) # [target_len, target_vocab_len]\n",
        "    prob = projected.max(dim=1, keepdim=False)[1]\n",
        "    next_symbol = prob.data[i].item()\n",
        "\n",
        "  return decoder_input"
      ],
      "execution_count": null,
      "outputs": []
    },
    {
      "cell_type": "code",
      "metadata": {
        "id": "kOuF-yAB0aan"
      },
      "source": [
        "model.eval()\n",
        "with torch.no_grad():\n",
        "  encoder_input, _, _ = next(iter(data_loader))\n",
        "  greedy_decoder_input = greedy_search(model, encoder_input[0].view(1, -1))\n",
        "  predict, _, _, _ = model(encoder_input[0].view(1, -1), greedy_decoder_input)\n",
        "  predict = predict.data.max(1, keepdim=True)[1]\n",
        "  print(encoder_input[0], '->', [idx2word[n.item()] for n in predict.squeeze()])"
      ],
      "execution_count": null,
      "outputs": []
    },
    {
      "cell_type": "code",
      "metadata": {
        "id": "s6QChze2u8iN"
      },
      "source": [
        "def beam_search(model, encoder_input, beam=3, start_symbol=target_vocab['S']):\n",
        "  '''\n",
        "  Beam search.\n",
        "  '''\n",
        "  pass"
      ],
      "execution_count": null,
      "outputs": []
    }
  ]
}