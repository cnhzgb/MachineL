{
  "nbformat": 4,
  "nbformat_minor": 0,
  "metadata": {
    "colab": {
      "provenance": [],
      "include_colab_link": true
    },
    "kernelspec": {
      "name": "python3",
      "display_name": "Python 3"
    }
  },
  "cells": [
    {
      "cell_type": "markdown",
      "metadata": {
        "id": "view-in-github",
        "colab_type": "text"
      },
      "source": [
        "<a href=\"https://colab.research.google.com/github/cnhzgb/MachineL/blob/main/Transformer.ipynb\" target=\"_parent\"><img src=\"https://colab.research.google.com/assets/colab-badge.svg\" alt=\"Open In Colab\"/></a>"
      ]
    },
    {
      "cell_type": "code",
      "metadata": {
        "id": "VIIAGxzT8h_t",
        "outputId": "ee19716c-3489-4891-d5d6-e2bb6b5dc611",
        "colab": {
          "base_uri": "https://localhost:8080/"
        }
      },
      "source": [
        "!pip install ipdb\n",
        "import torch\n",
        "from torch import nn\n",
        "from torch import optim\n",
        "from torch.utils import data as Data\n",
        "import numpy as np\n",
        "import ipdb"
      ],
      "execution_count": 133,
      "outputs": [
        {
          "output_type": "stream",
          "name": "stdout",
          "text": [
            "Requirement already satisfied: ipdb in /usr/local/lib/python3.10/dist-packages (0.13.13)\n",
            "Requirement already satisfied: ipython>=7.31.1 in /usr/local/lib/python3.10/dist-packages (from ipdb) (7.34.0)\n",
            "Requirement already satisfied: tomli in /usr/local/lib/python3.10/dist-packages (from ipdb) (2.0.1)\n",
            "Requirement already satisfied: decorator in /usr/local/lib/python3.10/dist-packages (from ipdb) (4.4.2)\n",
            "Requirement already satisfied: setuptools>=18.5 in /usr/local/lib/python3.10/dist-packages (from ipython>=7.31.1->ipdb) (67.7.2)\n",
            "Requirement already satisfied: jedi>=0.16 in /usr/local/lib/python3.10/dist-packages (from ipython>=7.31.1->ipdb) (0.18.2)\n",
            "Requirement already satisfied: pickleshare in /usr/local/lib/python3.10/dist-packages (from ipython>=7.31.1->ipdb) (0.7.5)\n",
            "Requirement already satisfied: traitlets>=4.2 in /usr/local/lib/python3.10/dist-packages (from ipython>=7.31.1->ipdb) (5.7.1)\n",
            "Requirement already satisfied: prompt-toolkit!=3.0.0,!=3.0.1,<3.1.0,>=2.0.0 in /usr/local/lib/python3.10/dist-packages (from ipython>=7.31.1->ipdb) (3.0.38)\n",
            "Requirement already satisfied: pygments in /usr/local/lib/python3.10/dist-packages (from ipython>=7.31.1->ipdb) (2.14.0)\n",
            "Requirement already satisfied: backcall in /usr/local/lib/python3.10/dist-packages (from ipython>=7.31.1->ipdb) (0.2.0)\n",
            "Requirement already satisfied: matplotlib-inline in /usr/local/lib/python3.10/dist-packages (from ipython>=7.31.1->ipdb) (0.1.6)\n",
            "Requirement already satisfied: pexpect>4.3 in /usr/local/lib/python3.10/dist-packages (from ipython>=7.31.1->ipdb) (4.8.0)\n",
            "Requirement already satisfied: parso<0.9.0,>=0.8.0 in /usr/local/lib/python3.10/dist-packages (from jedi>=0.16->ipython>=7.31.1->ipdb) (0.8.3)\n",
            "Requirement already satisfied: ptyprocess>=0.5 in /usr/local/lib/python3.10/dist-packages (from pexpect>4.3->ipython>=7.31.1->ipdb) (0.7.0)\n",
            "Requirement already satisfied: wcwidth in /usr/local/lib/python3.10/dist-packages (from prompt-toolkit!=3.0.0,!=3.0.1,<3.1.0,>=2.0.0->ipython>=7.31.1->ipdb) (0.2.6)\n"
          ]
        }
      ]
    },
    {
      "cell_type": "code",
      "metadata": {
        "id": "SSMxTYJzWhXH"
      },
      "source": [
        "d_model = 6 # embedding size\n",
        "max_len = 1024 # max length of sequence\n",
        "d_ff = 2048 # feedforward nerual network  dimension\n",
        "d_k = d_v = 2 # dimension of k(same as q) and v\n",
        "n_heads = 2 # number of heads in multihead attention\n",
        "p_drop = 0.1 # propability of dropout\n",
        "device = torch.device('cuda' if torch.cuda.is_available() else 'cpu')"
      ],
      "execution_count": 134,
      "outputs": []
    },
    {
      "cell_type": "code",
      "metadata": {
        "id": "TgvM4Rx1LF0A"
      },
      "source": [
        "def get_attn_pad_mask(seq_q, seq_k):\n",
        "  batch, len_q = seq_q.size() # 1, 4\n",
        "  batch, len_k = seq_k.size() # 1, 4\n",
        "  pad_attn_mask = seq_k.data.eq(0).unsqueeze(1) # 为0则为true，变为f,f,f,true，意思是把0这个结尾标志为true\n",
        "  return pad_attn_mask.expand(batch, len_q, len_k) # 扩展为1*4*4，最后一列为true，表示抹掉结尾对应的注意力\n",
        "\n",
        "def get_attn_subsequent_mask(seq):\n",
        "  attn_shape = [seq.size(0), seq.size(1), seq.size(1)] # [batch, target_len, target_len]\n",
        "  subsequent_mask = np.triu(np.ones(attn_shape), k=1) # [batch, target_len, target_len]\n",
        "  subsequent_mask = torch.from_numpy(subsequent_mask)\n",
        "  return subsequent_mask # [batch, target_len, target_len]"
      ],
      "execution_count": 135,
      "outputs": []
    },
    {
      "cell_type": "code",
      "metadata": {
        "id": "aa1pO0L4Ji9V"
      },
      "source": [
        "class ScaledDotProductAttention(nn.Module):\n",
        "\n",
        "  def __init__(self):\n",
        "    super(ScaledDotProductAttention, self).__init__()\n",
        "\n",
        "  def forward(self, Q, K, V, attn_mask):\n",
        "    scores = torch.matmul(Q, K.transpose(-1, -2)) / np.sqrt(d_k) # [batch, n_heads, len_q, len_k]\n",
        "    scores.masked_fill_(attn_mask, -1e9)\n",
        "\n",
        "    attn = nn.Softmax(dim=-1)(scores) # [batch, n_heads, len_q, len_k]\n",
        "    prob = torch.matmul(attn, V) # [batch, n_heads, len_q, d_v]\n",
        "    return prob\n"
      ],
      "execution_count": 136,
      "outputs": []
    },
    {
      "cell_type": "code",
      "metadata": {
        "id": "48HS30HtKjLm"
      },
      "source": [
        "class MultiHeadAttention(nn.Module):\n",
        "  def __init__(self):\n",
        "    super(MultiHeadAttention, self).__init__()\n",
        "    self.n_heads = n_heads\n",
        "    self.W_Q = nn.Linear(d_model, d_k * n_heads, bias=False)\n",
        "    self.W_K = nn.Linear(d_model, d_k * n_heads, bias=False)\n",
        "    self.W_V = nn.Linear(d_model, d_v * n_heads, bias=False)\n",
        "    self.fc = nn.Linear(d_v * n_heads, d_model, bias=False)\n",
        "    self.layer_norm = nn.LayerNorm(d_model)\n",
        "\n",
        "  def forward(self, input_Q, input_K, input_V, attn_mask):\n",
        "    residual, batch = input_Q, input_Q.size(0)\n",
        "\n",
        "    Q = self.W_Q(input_Q).view(batch, -1, n_heads, d_k).transpose(1, 2) # [batch, n_heads, len_q, d_k]\n",
        "    K = self.W_K(input_K).view(batch, -1, n_heads, d_k).transpose(1, 2) # [batch, n_heads, len_k, d_k]\n",
        "    V = self.W_V(input_V).view(batch, -1, n_heads, d_v).transpose(1, 2) # [batch, n_heads, len_v, d_v]\n",
        "\n",
        "    attn_mask = attn_mask.unsqueeze(1).repeat(1, n_heads, 1, 1) # [batch, n_heads, seq_len, seq_len]\n",
        "\n",
        "    prob = ScaledDotProductAttention()(Q, K, V, attn_mask)\n",
        "\n",
        "    prob = prob.transpose(1, 2).contiguous() # [batch, len_q, n_heads, d_v]\n",
        "    prob = prob.view(batch, -1, n_heads * d_v).contiguous() # [batch, len_q, n_heads * d_v]\n",
        "\n",
        "    output = self.fc(prob) # [batch, len_q, d_model]\n",
        "\n",
        "    return self.layer_norm(residual + output)\n"
      ],
      "execution_count": 137,
      "outputs": []
    },
    {
      "cell_type": "code",
      "metadata": {
        "id": "HEq9OhWXYhoH"
      },
      "source": [
        "class FeedForwardNetwork(nn.Module):\n",
        "  '''\n",
        "  Using nn.Conv1d replace nn.Linear to implements FFN.\n",
        "  '''\n",
        "  def __init__(self):\n",
        "    super(FeedForwardNetwork, self).__init__()\n",
        "    # self.ff1 = nn.Linear(d_model, d_ff)\n",
        "    # self.ff2 = nn.Linear(d_ff, d_model)\n",
        "    self.ff1 = nn.Conv1d(d_model, d_ff, 1)\n",
        "    self.ff2 = nn.Conv1d(d_ff, d_model, 1)\n",
        "    self.relu = nn.ReLU()\n",
        "\n",
        "    self.dropout = nn.Dropout(p=p_drop)\n",
        "    self.layer_norm = nn.LayerNorm(d_model)\n",
        "\n",
        "  def forward(self, x):\n",
        "    # x: [batch, seq_len, d_model]\n",
        "    residual = x\n",
        "    x = x.transpose(1, 2) # [batch, d_model, seq_len]\n",
        "    x = self.ff1(x)\n",
        "    x = self.relu(x)\n",
        "    x = self.ff2(x)\n",
        "    x = x.transpose(1, 2) # [batch, seq_len, d_model]\n",
        "\n",
        "    return self.layer_norm(residual + x)"
      ],
      "execution_count": 138,
      "outputs": []
    },
    {
      "cell_type": "code",
      "metadata": {
        "id": "1Ls7oA86xe2V"
      },
      "source": [
        "source_vocab = {'P' : 0, '我' : 1, '喜欢' : 2, '苹果' : 3}\n",
        "target_vocab = {'P' : 0, 'i' : 1, 'like' : 2, 'apple' : 3, 'S' : 5}\n",
        "\n",
        "encoder_input = torch.LongTensor([[1,2,3,0]]).to(device) # 我 喜欢 苹果 P, P代表结束词\n",
        "decoder_input = torch.LongTensor([[5,1,2,3]]).to(device) # S i like apple, S代表开始词, 并表示右移一位，用于并行训练\n",
        "decoder_output = torch.LongTensor([[1,2,3,0]]).to(device) # i like apple P, P代表结束词"
      ],
      "execution_count": 139,
      "outputs": []
    },
    {
      "cell_type": "code",
      "metadata": {
        "id": "68Kz08Y6QdFf"
      },
      "source": [
        "class Encoder(nn.Module):\n",
        "  def __init__(self):\n",
        "    super(Encoder, self).__init__()\n",
        "    self.source_embedding = nn.Embedding(len(source_vocab), d_model)\n",
        "    self.attention = MultiHeadAttention()\n",
        "    self.ffn = FeedForwardNetwork()\n",
        "\n",
        "  def forward(self, encoder_input): # input 1 * 4 4个单词的编码\n",
        "    embedded = self.source_embedding(encoder_input) # 1 * 4 * 6 将每个单词的整数字编码扩展到6个浮点数编码\n",
        "    mask = get_attn_pad_mask(encoder_input, encoder_input) # 1 * 4 * 4的矩阵，最后一列为true，表示忽略结尾词的注意力机制\n",
        "    encoder_output = self.attention(embedded, embedded, embedded, mask)\n",
        "    encoder_output = self.ffn(encoder_output)\n",
        "\n",
        "    return encoder_output\n",
        "\n",
        "class Decoder(nn.Module):\n",
        "\n",
        "  def __init__(self):\n",
        "    super(Decoder, self).__init__()\n",
        "    self.target_embedding = nn.Embedding(len(target_vocab), d_model)\n",
        "    self.attention = MultiHeadAttention()\n",
        "    self.ffn = FeedForwardNetwork()\n",
        "\n",
        "  def forward(self, decoder_input, encoder_input, encoder_output):\n",
        "    decoder_output = self.target_embedding(decoder_input)\n",
        "\n",
        "    decoder_self_attn_mask = get_attn_pad_mask(decoder_input, decoder_input) # [batch, target_len, d_model]\n",
        "    decoder_subsequent_mask = get_attn_subsequent_mask(decoder_input) # [batch, target_len, target_len]\n",
        "    decoder_self_mask = torch.gt(decoder_self_attn_mask + decoder_subsequent_mask, 0)\n",
        "\n",
        "    decoder_output = self.attention(decoder_input, decoder_input, decoder_input, decoder_self_mask)\n",
        "\n",
        "    decoder_encoder_attn_mask = get_attn_pad_mask(decoder_input, encoder_input) # [batch, target_len, source_len]\n",
        "    decoder_output = self.attention(decoder_output, encoder_output, encoder_output, decoder_encoder_attn_mask)\n",
        "\n",
        "    decoder_output = self.ffn(decoder_output) # [batch, target_len, d_model]\n",
        "\n",
        "    return decoder_output"
      ],
      "execution_count": 140,
      "outputs": []
    },
    {
      "cell_type": "code",
      "metadata": {
        "id": "Jmj9AHqLT0dP"
      },
      "source": [
        "class Transformer(nn.Module):\n",
        "  def __init__(self):\n",
        "    super(Transformer, self).__init__()\n",
        "    self.encoder = Encoder()\n",
        "    self.decoder = Decoder()\n",
        "    self.fc = nn.Linear(d_model, len(target_vocab), bias=False)\n",
        "\n",
        "  def forward(self, encoder_input, decoder_input):\n",
        "    encoder_output = self.encoder(encoder_input)\n",
        "    decoder_output, decoder_self_attns, decoder_encoder_attns = self.decoder(decoder_input, encoder_input, encoder_output)\n",
        "    decoder_logits = self.fc(decoder_output)\n",
        "\n",
        "    return decoder_logits.view(-1, decoder_logits.size(-1))"
      ],
      "execution_count": 141,
      "outputs": []
    },
    {
      "cell_type": "code",
      "metadata": {
        "id": "WWk7fVkDWsSs",
        "colab": {
          "base_uri": "https://localhost:8080/"
        },
        "outputId": "9c2cb94d-7899-4321-8888-807eb12ac5f0"
      },
      "source": [
        "model = Transformer().to(device)\n",
        "criterion = nn.CrossEntropyLoss()\n",
        "optimizer = optim.Adam(model.parameters(), lr=1e-1)\n",
        "\n",
        "for epoch in range(3):\n",
        "  output = model(encoder_input, decoder_input)\n",
        "  loss = criterion(output, decoder_output.view(-1))\n",
        "\n",
        "  print('Epoch:', '%04d' % (epoch + 1), 'loss =', '{:.6f}'.format(loss))\n",
        "\n",
        "  optimizer.zero_grad()\n",
        "  loss.backward()\n",
        "  optimizer.step()"
      ],
      "execution_count": 142,
      "outputs": [
        {
          "name": "stdout",
          "output_type": "stream",
          "text": [
            "> \u001b[0;32m<ipython-input-135-0b36bf5b0c61>\u001b[0m(3)\u001b[0;36mget_attn_pad_mask\u001b[0;34m()\u001b[0m\n",
            "\u001b[0;32m      2 \u001b[0;31m  \u001b[0mipdb\u001b[0m\u001b[0;34m.\u001b[0m\u001b[0mset_trace\u001b[0m\u001b[0;34m(\u001b[0m\u001b[0;34m)\u001b[0m\u001b[0;34m\u001b[0m\u001b[0;34m\u001b[0m\u001b[0m\n",
            "\u001b[0m\u001b[0;32m----> 3 \u001b[0;31m  \u001b[0mbatch\u001b[0m\u001b[0;34m,\u001b[0m \u001b[0mlen_q\u001b[0m \u001b[0;34m=\u001b[0m \u001b[0mseq_q\u001b[0m\u001b[0;34m.\u001b[0m\u001b[0msize\u001b[0m\u001b[0;34m(\u001b[0m\u001b[0;34m)\u001b[0m\u001b[0;34m\u001b[0m\u001b[0;34m\u001b[0m\u001b[0m\n",
            "\u001b[0m\u001b[0;32m      4 \u001b[0;31m  \u001b[0mbatch\u001b[0m\u001b[0;34m,\u001b[0m \u001b[0mlen_k\u001b[0m \u001b[0;34m=\u001b[0m \u001b[0mseq_k\u001b[0m\u001b[0;34m.\u001b[0m\u001b[0msize\u001b[0m\u001b[0;34m(\u001b[0m\u001b[0;34m)\u001b[0m\u001b[0;34m\u001b[0m\u001b[0;34m\u001b[0m\u001b[0m\n",
            "\u001b[0m\n",
            "ipdb> n\n",
            "> \u001b[0;32m<ipython-input-135-0b36bf5b0c61>\u001b[0m(4)\u001b[0;36mget_attn_pad_mask\u001b[0;34m()\u001b[0m\n",
            "\u001b[0;32m      3 \u001b[0;31m  \u001b[0mbatch\u001b[0m\u001b[0;34m,\u001b[0m \u001b[0mlen_q\u001b[0m \u001b[0;34m=\u001b[0m \u001b[0mseq_q\u001b[0m\u001b[0;34m.\u001b[0m\u001b[0msize\u001b[0m\u001b[0;34m(\u001b[0m\u001b[0;34m)\u001b[0m\u001b[0;34m\u001b[0m\u001b[0;34m\u001b[0m\u001b[0m\n",
            "\u001b[0m\u001b[0;32m----> 4 \u001b[0;31m  \u001b[0mbatch\u001b[0m\u001b[0;34m,\u001b[0m \u001b[0mlen_k\u001b[0m \u001b[0;34m=\u001b[0m \u001b[0mseq_k\u001b[0m\u001b[0;34m.\u001b[0m\u001b[0msize\u001b[0m\u001b[0;34m(\u001b[0m\u001b[0;34m)\u001b[0m\u001b[0;34m\u001b[0m\u001b[0;34m\u001b[0m\u001b[0m\n",
            "\u001b[0m\u001b[0;32m      5 \u001b[0;31m  \u001b[0mpad_attn_mask\u001b[0m \u001b[0;34m=\u001b[0m \u001b[0mseq_k\u001b[0m\u001b[0;34m.\u001b[0m\u001b[0mdata\u001b[0m\u001b[0;34m.\u001b[0m\u001b[0meq\u001b[0m\u001b[0;34m(\u001b[0m\u001b[0;36m0\u001b[0m\u001b[0;34m)\u001b[0m\u001b[0;34m.\u001b[0m\u001b[0munsqueeze\u001b[0m\u001b[0;34m(\u001b[0m\u001b[0;36m1\u001b[0m\u001b[0;34m)\u001b[0m \u001b[0;31m# [batch, 1, len_k]\u001b[0m\u001b[0;34m\u001b[0m\u001b[0;34m\u001b[0m\u001b[0m\n",
            "\u001b[0m\n",
            "ipdb> \n",
            "> \u001b[0;32m<ipython-input-135-0b36bf5b0c61>\u001b[0m(5)\u001b[0;36mget_attn_pad_mask\u001b[0;34m()\u001b[0m\n",
            "\u001b[0;32m      4 \u001b[0;31m  \u001b[0mbatch\u001b[0m\u001b[0;34m,\u001b[0m \u001b[0mlen_k\u001b[0m \u001b[0;34m=\u001b[0m \u001b[0mseq_k\u001b[0m\u001b[0;34m.\u001b[0m\u001b[0msize\u001b[0m\u001b[0;34m(\u001b[0m\u001b[0;34m)\u001b[0m\u001b[0;34m\u001b[0m\u001b[0;34m\u001b[0m\u001b[0m\n",
            "\u001b[0m\u001b[0;32m----> 5 \u001b[0;31m  \u001b[0mpad_attn_mask\u001b[0m \u001b[0;34m=\u001b[0m \u001b[0mseq_k\u001b[0m\u001b[0;34m.\u001b[0m\u001b[0mdata\u001b[0m\u001b[0;34m.\u001b[0m\u001b[0meq\u001b[0m\u001b[0;34m(\u001b[0m\u001b[0;36m0\u001b[0m\u001b[0;34m)\u001b[0m\u001b[0;34m.\u001b[0m\u001b[0munsqueeze\u001b[0m\u001b[0;34m(\u001b[0m\u001b[0;36m1\u001b[0m\u001b[0;34m)\u001b[0m \u001b[0;31m# [batch, 1, len_k]\u001b[0m\u001b[0;34m\u001b[0m\u001b[0;34m\u001b[0m\u001b[0m\n",
            "\u001b[0m\u001b[0;32m      6 \u001b[0;31m  \u001b[0;32mreturn\u001b[0m \u001b[0mpad_attn_mask\u001b[0m\u001b[0;34m.\u001b[0m\u001b[0mexpand\u001b[0m\u001b[0;34m(\u001b[0m\u001b[0mbatch\u001b[0m\u001b[0;34m,\u001b[0m \u001b[0mlen_q\u001b[0m\u001b[0;34m,\u001b[0m \u001b[0mlen_k\u001b[0m\u001b[0;34m)\u001b[0m \u001b[0;31m# [batch, len_q, len_k]\u001b[0m\u001b[0;34m\u001b[0m\u001b[0;34m\u001b[0m\u001b[0m\n",
            "\u001b[0m\n",
            "ipdb> print(seq_k.data)\n",
            "tensor([[1, 2, 3, 0]])\n",
            "ipdb> print(seq_k.data.eq(0))\n",
            "tensor([[False, False, False,  True]])\n",
            "ipdb> n\n",
            "> \u001b[0;32m<ipython-input-135-0b36bf5b0c61>\u001b[0m(6)\u001b[0;36mget_attn_pad_mask\u001b[0;34m()\u001b[0m\n",
            "\u001b[0;32m      5 \u001b[0;31m  \u001b[0mpad_attn_mask\u001b[0m \u001b[0;34m=\u001b[0m \u001b[0mseq_k\u001b[0m\u001b[0;34m.\u001b[0m\u001b[0mdata\u001b[0m\u001b[0;34m.\u001b[0m\u001b[0meq\u001b[0m\u001b[0;34m(\u001b[0m\u001b[0;36m0\u001b[0m\u001b[0;34m)\u001b[0m\u001b[0;34m.\u001b[0m\u001b[0munsqueeze\u001b[0m\u001b[0;34m(\u001b[0m\u001b[0;36m1\u001b[0m\u001b[0;34m)\u001b[0m \u001b[0;31m# [batch, 1, len_k]\u001b[0m\u001b[0;34m\u001b[0m\u001b[0;34m\u001b[0m\u001b[0m\n",
            "\u001b[0m\u001b[0;32m----> 6 \u001b[0;31m  \u001b[0;32mreturn\u001b[0m \u001b[0mpad_attn_mask\u001b[0m\u001b[0;34m.\u001b[0m\u001b[0mexpand\u001b[0m\u001b[0;34m(\u001b[0m\u001b[0mbatch\u001b[0m\u001b[0;34m,\u001b[0m \u001b[0mlen_q\u001b[0m\u001b[0;34m,\u001b[0m \u001b[0mlen_k\u001b[0m\u001b[0;34m)\u001b[0m \u001b[0;31m# [batch, len_q, len_k]\u001b[0m\u001b[0;34m\u001b[0m\u001b[0;34m\u001b[0m\u001b[0m\n",
            "\u001b[0m\u001b[0;32m      7 \u001b[0;31m\u001b[0;34m\u001b[0m\u001b[0m\n",
            "\u001b[0m\n",
            "ipdb> print(pad_attn_mask)\n",
            "tensor([[[False, False, False,  True]]])\n",
            "ipdb> q\n"
          ]
        }
      ]
    }
  ]
}