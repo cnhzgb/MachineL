{
  "nbformat": 4,
  "nbformat_minor": 0,
  "metadata": {
    "colab": {
      "provenance": [],
      "gpuType": "T4",
      "authorship_tag": "ABX9TyMMOTNd2PGkramI4u7KvTz/",
      "include_colab_link": true
    },
    "kernelspec": {
      "name": "python3",
      "display_name": "Python 3"
    },
    "language_info": {
      "name": "python"
    },
    "accelerator": "GPU"
  },
  "cells": [
    {
      "cell_type": "markdown",
      "metadata": {
        "id": "view-in-github",
        "colab_type": "text"
      },
      "source": [
        "<a href=\"https://colab.research.google.com/github/cnhzgb/MachineL/blob/main/VGG9_32*32_CIFAR10.ipynb\" target=\"_parent\"><img src=\"https://colab.research.google.com/assets/colab-badge.svg\" alt=\"Open In Colab\"/></a>"
      ]
    },
    {
      "cell_type": "code",
      "source": [
        "!pip install ipdb\n",
        "!pip install einops\n",
        "import ipdb\n",
        "import torch\n",
        "import torch.nn as nn\n",
        "import torch.nn.functional as F\n",
        "import torch.optim as optim\n",
        "import torchvision\n",
        "import torchvision.datasets as datasets\n",
        "from torch.utils.data import DataLoader\n",
        "import torchvision.transforms as transforms\n",
        "import matplotlib.pyplot as plt\n",
        "import numpy as np\n",
        "from einops import rearrange\n",
        "from torchsummary import summary\n",
        "\n",
        "device = \"cuda\" if torch.cuda.is_available() else \"cpu\""
      ],
      "metadata": {
        "id": "hofQlMWWYHNt",
        "colab": {
          "base_uri": "https://localhost:8080/"
        },
        "outputId": "58d3a498-d305-478c-e0aa-3ee5954337b4"
      },
      "execution_count": 1,
      "outputs": [
        {
          "output_type": "stream",
          "name": "stdout",
          "text": [
            "Collecting ipdb\n",
            "  Downloading ipdb-0.13.13-py3-none-any.whl (12 kB)\n",
            "Requirement already satisfied: ipython>=7.31.1 in /usr/local/lib/python3.10/dist-packages (from ipdb) (7.34.0)\n",
            "Requirement already satisfied: tomli in /usr/local/lib/python3.10/dist-packages (from ipdb) (2.0.1)\n",
            "Requirement already satisfied: decorator in /usr/local/lib/python3.10/dist-packages (from ipdb) (4.4.2)\n",
            "Requirement already satisfied: setuptools>=18.5 in /usr/local/lib/python3.10/dist-packages (from ipython>=7.31.1->ipdb) (67.7.2)\n",
            "Collecting jedi>=0.16 (from ipython>=7.31.1->ipdb)\n",
            "  Downloading jedi-0.18.2-py2.py3-none-any.whl (1.6 MB)\n",
            "\u001b[2K     \u001b[90m━━━━━━━━━━━━━━━━━━━━━━━━━━━━━━━━━━━━━━━━\u001b[0m \u001b[32m1.6/1.6 MB\u001b[0m \u001b[31m11.3 MB/s\u001b[0m eta \u001b[36m0:00:00\u001b[0m\n",
            "\u001b[?25hRequirement already satisfied: pickleshare in /usr/local/lib/python3.10/dist-packages (from ipython>=7.31.1->ipdb) (0.7.5)\n",
            "Requirement already satisfied: traitlets>=4.2 in /usr/local/lib/python3.10/dist-packages (from ipython>=7.31.1->ipdb) (5.7.1)\n",
            "Requirement already satisfied: prompt-toolkit!=3.0.0,!=3.0.1,<3.1.0,>=2.0.0 in /usr/local/lib/python3.10/dist-packages (from ipython>=7.31.1->ipdb) (3.0.39)\n",
            "Requirement already satisfied: pygments in /usr/local/lib/python3.10/dist-packages (from ipython>=7.31.1->ipdb) (2.14.0)\n",
            "Requirement already satisfied: backcall in /usr/local/lib/python3.10/dist-packages (from ipython>=7.31.1->ipdb) (0.2.0)\n",
            "Requirement already satisfied: matplotlib-inline in /usr/local/lib/python3.10/dist-packages (from ipython>=7.31.1->ipdb) (0.1.6)\n",
            "Requirement already satisfied: pexpect>4.3 in /usr/local/lib/python3.10/dist-packages (from ipython>=7.31.1->ipdb) (4.8.0)\n",
            "Requirement already satisfied: parso<0.9.0,>=0.8.0 in /usr/local/lib/python3.10/dist-packages (from jedi>=0.16->ipython>=7.31.1->ipdb) (0.8.3)\n",
            "Requirement already satisfied: ptyprocess>=0.5 in /usr/local/lib/python3.10/dist-packages (from pexpect>4.3->ipython>=7.31.1->ipdb) (0.7.0)\n",
            "Requirement already satisfied: wcwidth in /usr/local/lib/python3.10/dist-packages (from prompt-toolkit!=3.0.0,!=3.0.1,<3.1.0,>=2.0.0->ipython>=7.31.1->ipdb) (0.2.6)\n",
            "Installing collected packages: jedi, ipdb\n",
            "Successfully installed ipdb-0.13.13 jedi-0.18.2\n",
            "Collecting einops\n",
            "  Downloading einops-0.6.1-py3-none-any.whl (42 kB)\n",
            "\u001b[2K     \u001b[90m━━━━━━━━━━━━━━━━━━━━━━━━━━━━━━━━━━━━━━━\u001b[0m \u001b[32m42.2/42.2 kB\u001b[0m \u001b[31m591.9 kB/s\u001b[0m eta \u001b[36m0:00:00\u001b[0m\n",
            "\u001b[?25hInstalling collected packages: einops\n",
            "Successfully installed einops-0.6.1\n"
          ]
        }
      ]
    },
    {
      "cell_type": "code",
      "execution_count": 2,
      "metadata": {
        "id": "7JyY7NuECDB4",
        "outputId": "3d37eb5d-39bf-44ba-84ca-012f588d27c0",
        "colab": {
          "base_uri": "https://localhost:8080/"
        }
      },
      "outputs": [
        {
          "output_type": "stream",
          "name": "stdout",
          "text": [
            "Downloading https://www.cs.toronto.edu/~kriz/cifar-10-python.tar.gz to dataset/cifar-10-python.tar.gz\n"
          ]
        },
        {
          "output_type": "stream",
          "name": "stderr",
          "text": [
            "100%|██████████| 170498071/170498071 [00:05<00:00, 29170380.31it/s]\n"
          ]
        },
        {
          "output_type": "stream",
          "name": "stdout",
          "text": [
            "Extracting dataset/cifar-10-python.tar.gz to dataset/\n",
            "10 50000 torch.Size([100, 3, 32, 32]) torch.Size([100])\n",
            "Files already downloaded and verified\n"
          ]
        }
      ],
      "source": [
        "trans = transforms.Compose([transforms.ToTensor(), transforms.Normalize((0.5,0.5,0.5),(0.5,0.5,0.5))]) # transforms.RandomHorizontalFlip(), transforms.RandomGrayscale()\n",
        "dataset = datasets.CIFAR10(root=\"dataset/\", transform=trans, download=True, train=True) # 5W张图片, 10种分类\n",
        "loader = DataLoader(dataset, batch_size=100, shuffle=True)\n",
        "batch_num,(image, label) = next(enumerate(loader))\n",
        "print(len(dataset.classes), len(dataset), image.shape, label.shape) # 10; 5W; 100,3,32,32; 100\n",
        "\n",
        "trans_test = transforms.Compose([transforms.ToTensor(), transforms.Normalize((0.5,0.5,0.5),(0.5,0.5,0.5))])\n",
        "dataset_test = datasets.CIFAR10(root=\"dataset/\", transform=trans_test, download=True, train=False) # 1W张图片\n",
        "loader_test = DataLoader(dataset_test, batch_size=100, shuffle=True)\n",
        "criterion_test = nn.CrossEntropyLoss()"
      ]
    },
    {
      "cell_type": "code",
      "source": [
        "# https://zhuanlan.zhihu.com/p/87555358\n",
        "class Net(nn.Module):\n",
        "\n",
        "    def __init__(self):\n",
        "        super(Net,self).__init__()\n",
        "        self.conv11 = nn.Conv2d(3,64,3,padding=1)\n",
        "        self.pool1 = nn.MaxPool2d(2, 2)\n",
        "\n",
        "        self.conv21 = nn.Conv2d(64,128,3,padding=1)\n",
        "        self.pool2 = nn.MaxPool2d(2, 2)\n",
        "\n",
        "        self.conv31 = nn.Conv2d(128, 256, 3, padding=1)\n",
        "        self.conv32 = nn.Conv2d(256, 256, 3,padding=1)\n",
        "        self.pool3 = nn.MaxPool2d(2, 2)\n",
        "\n",
        "        self.conv41 = nn.Conv2d(256, 512, 3,padding=1)\n",
        "        self.conv42 = nn.Conv2d(512, 512, 3, padding=1)\n",
        "        self.pool4 = nn.MaxPool2d(2, 2)\n",
        "\n",
        "        self.conv51 = nn.Conv2d(512, 512, 3, padding=1)\n",
        "        self.conv52 = nn.Conv2d(512, 512, 3, padding=1)\n",
        "        self.pool5 = nn.MaxPool2d(2, 2)\n",
        "\n",
        "        self.fc1 = nn.Linear(512*2*2,1024)\n",
        "        self.fc2 = nn.Linear(1024,1024)\n",
        "        self.fc3 = nn.Linear(1024,10)\n",
        "\n",
        "\n",
        "    def forward(self,x):\n",
        "        x = F.relu(self.conv11(x)) # => ,64,32,32\n",
        "        x = self.pool1(x) # => ,64,16,16\n",
        "\n",
        "        x = F.relu(self.conv21(x)) # => ,128,16,16\n",
        "        x = self.pool2(x) # => ,128,8,8\n",
        "\n",
        "        x = F.relu(self.conv31(x)) # => ,256,8,8\n",
        "        x = F.relu(self.conv32(x))\n",
        "        x = self.pool3(x) # => ,256,4,4\n",
        "\n",
        "        x = F.relu(self.conv41(x)) # => ,512,4,4\n",
        "        x = F.relu(self.conv42(x))\n",
        "        x = self.pool4(x) # => ,512,2,2\n",
        "\n",
        "        #x = F.relu(self.conv51(x)) # => ,512,2,2\n",
        "        #x = F.relu(self.conv52(x))\n",
        "        # x = self.pool5(x) # => ,512,1,1\n",
        "\n",
        "        x = x.view(-1,512*2*2)\n",
        "        x = F.relu(self.fc1(x)) # => ,1024\n",
        "        x = F.relu(self.fc2(x)) # => ,1024\n",
        "        x = self.fc3(x) # => ,10\n",
        "\n",
        "        return x\n",
        "\n",
        "model = Net().to(device)\n",
        "criterion = nn.CrossEntropyLoss()\n",
        "optimizer = torch.optim.Adam(model.parameters(), lr = 1e-4)\n",
        "\n",
        "summary(model, (3,32,32))"
      ],
      "metadata": {
        "id": "Fm-vKBCpQ966",
        "outputId": "d1436e3f-836e-4d02-de8b-30b0343812f0",
        "colab": {
          "base_uri": "https://localhost:8080/"
        }
      },
      "execution_count": 3,
      "outputs": [
        {
          "output_type": "stream",
          "name": "stdout",
          "text": [
            "----------------------------------------------------------------\n",
            "        Layer (type)               Output Shape         Param #\n",
            "================================================================\n",
            "            Conv2d-1           [-1, 64, 32, 32]           1,792\n",
            "         MaxPool2d-2           [-1, 64, 16, 16]               0\n",
            "            Conv2d-3          [-1, 128, 16, 16]          73,856\n",
            "         MaxPool2d-4            [-1, 128, 8, 8]               0\n",
            "            Conv2d-5            [-1, 256, 8, 8]         295,168\n",
            "            Conv2d-6            [-1, 256, 8, 8]         590,080\n",
            "         MaxPool2d-7            [-1, 256, 4, 4]               0\n",
            "            Conv2d-8            [-1, 512, 4, 4]       1,180,160\n",
            "            Conv2d-9            [-1, 512, 4, 4]       2,359,808\n",
            "        MaxPool2d-10            [-1, 512, 2, 2]               0\n",
            "           Linear-11                 [-1, 1024]       2,098,176\n",
            "           Linear-12                 [-1, 1024]       1,049,600\n",
            "           Linear-13                   [-1, 10]          10,250\n",
            "================================================================\n",
            "Total params: 7,658,890\n",
            "Trainable params: 7,658,890\n",
            "Non-trainable params: 0\n",
            "----------------------------------------------------------------\n",
            "Input size (MB): 0.01\n",
            "Forward/backward pass size (MB): 1.38\n",
            "Params size (MB): 29.22\n",
            "Estimated Total Size (MB): 30.60\n",
            "----------------------------------------------------------------\n"
          ]
        }
      ]
    },
    {
      "cell_type": "code",
      "source": [
        "for epoch in range(1,10):\n",
        "  total_loss = []\n",
        "  errorTotal = 0\n",
        "  for batch_idx, (img, label) in enumerate(loader):\n",
        "    img = img.to(device)\n",
        "    label = label.to(device)\n",
        "    outputs = model(img)\n",
        "    loss = criterion(outputs, label)\n",
        "\n",
        "    optimizer.zero_grad()\n",
        "    loss.backward()\n",
        "    optimizer.step()\n",
        "\n",
        "    total_loss.append(loss.item())\n",
        "    maxV,maxIdx = outputs.max(dim=1)\n",
        "    errorNum = torch.sum(torch.ne(maxIdx, label)).item()\n",
        "    errorTotal += errorNum\n",
        "\n",
        "    if(batch_idx % 100 == 99):\n",
        "      print(\"epoch:{} batch:{} loss:{:.2f} mean:{:.2f} error:{}/100 errorTotal:{}/{} {:.2f}%\".format(\n",
        "          epoch, batch_idx, loss, np.mean(total_loss), errorNum, errorTotal, (batch_idx+1)*100, errorTotal/(batch_idx+1)))"
      ],
      "metadata": {
        "id": "efm8ASvZX9DS",
        "colab": {
          "base_uri": "https://localhost:8080/"
        },
        "outputId": "a887cef2-6727-431e-83f1-79761aa5a333"
      },
      "execution_count": 4,
      "outputs": [
        {
          "output_type": "stream",
          "name": "stdout",
          "text": [
            "epoch:1 batch:99 loss:1.94 mean:2.10 error:80/100 errorTotal:7982/10000 79.82%\n",
            "epoch:1 batch:199 loss:1.62 mean:1.95 error:60/100 errorTotal:14834/20000 74.17%\n",
            "epoch:1 batch:299 loss:1.74 mean:1.87 error:63/100 errorTotal:21274/30000 70.91%\n",
            "epoch:1 batch:399 loss:1.57 mean:1.80 error:56/100 errorTotal:27317/40000 68.29%\n",
            "epoch:1 batch:499 loss:1.50 mean:1.75 error:61/100 errorTotal:33064/50000 66.13%\n",
            "epoch:2 batch:99 loss:1.44 mean:1.49 error:56/100 errorTotal:5564/10000 55.64%\n",
            "epoch:2 batch:199 loss:1.35 mean:1.46 error:51/100 errorTotal:10878/20000 54.39%\n",
            "epoch:2 batch:299 loss:1.23 mean:1.44 error:45/100 errorTotal:16026/30000 53.42%\n",
            "epoch:2 batch:399 loss:1.37 mean:1.42 error:52/100 errorTotal:21014/40000 52.53%\n",
            "epoch:2 batch:499 loss:1.37 mean:1.39 error:51/100 errorTotal:25774/50000 51.55%\n",
            "epoch:3 batch:99 loss:1.24 mean:1.26 error:47/100 errorTotal:4609/10000 46.09%\n",
            "epoch:3 batch:199 loss:1.46 mean:1.24 error:50/100 errorTotal:9025/20000 45.12%\n",
            "epoch:3 batch:299 loss:1.27 mean:1.22 error:46/100 errorTotal:13405/30000 44.68%\n",
            "epoch:3 batch:399 loss:0.98 mean:1.21 error:32/100 errorTotal:17635/40000 44.09%\n",
            "epoch:3 batch:499 loss:1.05 mean:1.19 error:35/100 errorTotal:21790/50000 43.58%\n",
            "epoch:4 batch:99 loss:1.11 mean:1.09 error:45/100 errorTotal:3997/10000 39.97%\n",
            "epoch:4 batch:199 loss:0.95 mean:1.08 error:35/100 errorTotal:7880/20000 39.40%\n",
            "epoch:4 batch:299 loss:1.13 mean:1.07 error:36/100 errorTotal:11610/30000 38.70%\n",
            "epoch:4 batch:399 loss:1.17 mean:1.06 error:40/100 errorTotal:15384/40000 38.46%\n",
            "epoch:4 batch:499 loss:0.92 mean:1.05 error:34/100 errorTotal:19124/50000 38.25%\n",
            "epoch:5 batch:99 loss:1.07 mean:0.97 error:37/100 errorTotal:3517/10000 35.17%\n",
            "epoch:5 batch:199 loss:0.93 mean:0.98 error:29/100 errorTotal:7110/20000 35.55%\n",
            "epoch:5 batch:299 loss:0.96 mean:0.97 error:32/100 errorTotal:10534/30000 35.11%\n",
            "epoch:5 batch:399 loss:1.01 mean:0.96 error:33/100 errorTotal:13962/40000 34.91%\n",
            "epoch:5 batch:499 loss:1.07 mean:0.95 error:40/100 errorTotal:17233/50000 34.47%\n",
            "epoch:6 batch:99 loss:1.05 mean:0.87 error:35/100 errorTotal:3166/10000 31.66%\n",
            "epoch:6 batch:199 loss:0.95 mean:0.88 error:37/100 errorTotal:6384/20000 31.92%\n",
            "epoch:6 batch:299 loss:0.84 mean:0.87 error:29/100 errorTotal:9505/30000 31.68%\n",
            "epoch:6 batch:399 loss:0.94 mean:0.86 error:34/100 errorTotal:12415/40000 31.04%\n",
            "epoch:6 batch:499 loss:0.90 mean:0.86 error:33/100 errorTotal:15497/50000 30.99%\n",
            "epoch:7 batch:99 loss:0.70 mean:0.77 error:29/100 errorTotal:2711/10000 27.11%\n",
            "epoch:7 batch:199 loss:0.71 mean:0.77 error:29/100 errorTotal:5500/20000 27.50%\n",
            "epoch:7 batch:299 loss:0.85 mean:0.77 error:31/100 errorTotal:8289/30000 27.63%\n",
            "epoch:7 batch:399 loss:0.67 mean:0.77 error:27/100 errorTotal:11060/40000 27.65%\n",
            "epoch:7 batch:499 loss:0.56 mean:0.76 error:18/100 errorTotal:13705/50000 27.41%\n",
            "epoch:8 batch:99 loss:0.62 mean:0.68 error:25/100 errorTotal:2437/10000 24.37%\n",
            "epoch:8 batch:199 loss:0.50 mean:0.68 error:17/100 errorTotal:4891/20000 24.45%\n",
            "epoch:8 batch:299 loss:0.64 mean:0.69 error:23/100 errorTotal:7383/30000 24.61%\n",
            "epoch:8 batch:399 loss:0.76 mean:0.68 error:23/100 errorTotal:9757/40000 24.39%\n",
            "epoch:8 batch:499 loss:0.62 mean:0.68 error:16/100 errorTotal:12140/50000 24.28%\n",
            "epoch:9 batch:99 loss:0.44 mean:0.59 error:17/100 errorTotal:2080/10000 20.80%\n",
            "epoch:9 batch:199 loss:0.53 mean:0.60 error:20/100 errorTotal:4269/20000 21.34%\n",
            "epoch:9 batch:299 loss:0.53 mean:0.60 error:18/100 errorTotal:6375/30000 21.25%\n",
            "epoch:9 batch:399 loss:0.56 mean:0.60 error:15/100 errorTotal:8551/40000 21.38%\n",
            "epoch:9 batch:499 loss:0.76 mean:0.60 error:28/100 errorTotal:10667/50000 21.33%\n"
          ]
        }
      ]
    }
  ]
}