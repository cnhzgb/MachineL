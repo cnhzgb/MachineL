{
  "cells": [
    {
      "cell_type": "markdown",
      "metadata": {
        "id": "view-in-github",
        "colab_type": "text"
      },
      "source": [
        "<a href=\"https://colab.research.google.com/github/cnhzgb/MachineL/blob/main/RESNET_TINY_CIFAR10.ipynb\" target=\"_parent\"><img src=\"https://colab.research.google.com/assets/colab-badge.svg\" alt=\"Open In Colab\"/></a>"
      ]
    },
    {
      "cell_type": "code",
      "execution_count": 1,
      "metadata": {
        "colab": {
          "base_uri": "https://localhost:8080/"
        },
        "id": "hofQlMWWYHNt",
        "outputId": "83863c13-5612-426e-86e3-0bea265abce7"
      },
      "outputs": [
        {
          "output_type": "stream",
          "name": "stderr",
          "text": [
            "/Users/bin.guanb/Library/Python/3.9/lib/python/site-packages/urllib3/__init__.py:34: NotOpenSSLWarning: urllib3 v2.0 only supports OpenSSL 1.1.1+, currently the 'ssl' module is compiled with 'LibreSSL 2.8.3'. See: https://github.com/urllib3/urllib3/issues/3020\n",
            "  warnings.warn(\n"
          ]
        },
        {
          "output_type": "stream",
          "name": "stdout",
          "text": [
            "True\n",
            "True\n",
            "mps\n"
          ]
        }
      ],
      "source": [
        "import ipdb\n",
        "import torch\n",
        "import torch.nn as nn\n",
        "import torch.nn.functional as F\n",
        "import torch.optim as optim\n",
        "import torchvision\n",
        "import torchvision.datasets as datasets\n",
        "from torch.utils.data import DataLoader\n",
        "import torchvision.transforms as transforms\n",
        "import matplotlib.pyplot as plt\n",
        "import numpy as np\n",
        "from einops import rearrange\n",
        "from torchsummary import summary\n",
        "import time\n",
        "\n",
        "device = \"cuda\" if torch.cuda.is_available() else \"cpu\"\n",
        "print(torch.backends.mps.is_available())\n",
        "print(torch.backends.mps.is_built())\n",
        "device = torch.device(\"mps\")\n",
        "print(device)"
      ]
    },
    {
      "cell_type": "code",
      "execution_count": 2,
      "metadata": {
        "colab": {
          "base_uri": "https://localhost:8080/"
        },
        "id": "7JyY7NuECDB4",
        "outputId": "f6b50a7e-b29e-49e0-a383-99c6ec6b5c75"
      },
      "outputs": [
        {
          "output_type": "stream",
          "name": "stdout",
          "text": [
            "10 50000 torch.Size([100, 3, 32, 32]) torch.Size([100])\n"
          ]
        }
      ],
      "source": [
        "trans = transforms.Compose([transforms.RandomHorizontalFlip(), transforms.RandomGrayscale(), transforms.ToTensor(), transforms.Normalize((0.5,0.5,0.5),(0.5,0.5,0.5))])\n",
        "dataset = datasets.CIFAR10(root=\"/Users/bin.guanb/code/MachineL/dataset/\", transform=trans, download=False, train=True) # 5W张图片, 10种分类\n",
        "loader = DataLoader(dataset, batch_size=100, shuffle=True)\n",
        "batch_num,(image, label) = next(enumerate(loader))\n",
        "print(len(dataset.classes), len(dataset), image.shape, label.shape) # 10; 5W; 100,3,32,32; 100\n",
        "\n",
        "trans_test = transforms.Compose([transforms.ToTensor(), transforms.Normalize((0.5,0.5,0.5),(0.5,0.5,0.5))])\n",
        "dataset_test = datasets.CIFAR10(root=\"/Users/bin.guanb/code/MachineL/dataset/\", transform=trans_test, download=False, train=False) # 1W张图片\n",
        "loader_test = DataLoader(dataset_test, batch_size=100, shuffle=True)\n",
        "criterion_test = nn.CrossEntropyLoss()"
      ]
    },
    {
      "cell_type": "code",
      "execution_count": 10,
      "metadata": {
        "id": "Fm-vKBCpQ966"
      },
      "outputs": [],
      "source": [
        "# https://www.cnblogs.com/emanlee/p/17138634.html\n",
        "\n",
        "class Block(nn.Module):\n",
        "  def __init__(self, inc, n_chans):\n",
        "    super(Block, self).__init__()\n",
        "    self.conv1 = nn.Conv2d(inc, n_chans, kernel_size=3, padding=1)\n",
        "    self.conv2 = nn.Conv2d(n_chans, n_chans, kernel_size=3, padding=1)\n",
        "    self.batch_norm = nn.BatchNorm2d(num_features=n_chans)\n",
        "\n",
        "  def forward(self, x):\n",
        "    x = self.conv1(x)\n",
        "    x = F.relu(self.batch_norm(x))\n",
        "    x = self.conv2(x)\n",
        "    x = self.batch_norm(x)\n",
        "    return x\n",
        "\n",
        "class Net(nn.Module):\n",
        "    def __init__(self):\n",
        "        super(Net,self).__init__()\n",
        "        self.pool = nn.MaxPool2d(2, 2)\n",
        "\n",
        "        self.conv10 = nn.Conv2d(3,32,1,padding=0)\n",
        "        self.conv11 = Block(3,32)\n",
        "        self.conv12 = Block(32,32)\n",
        "\n",
        "        self.conv20 = nn.Conv2d(32,64,1,padding=0)\n",
        "        self.conv21 = Block(32,64)\n",
        "        self.conv22 = Block(64,64)\n",
        "\n",
        "        self.conv30 = nn.Conv2d(64,128,1,padding=0)\n",
        "        self.conv31 = Block(64,128)\n",
        "        self.conv32 = Block(128,128)\n",
        "\n",
        "        self.conv40 = nn.Conv2d(128,256,1,padding=0)\n",
        "        self.conv41 = Block(128,256)\n",
        "        self.conv42 = Block(256,256)\n",
        "\n",
        "        self.conv50 = nn.Conv2d(256,512,1,padding=0)\n",
        "        self.conv51 = Block(256,512)\n",
        "        self.conv52 = Block(512,512)\n",
        "\n",
        "        self.fc1 = nn.Linear(512*2*2, 1024)\n",
        "        self.fc2 = nn.Linear(1024, 256)\n",
        "        self.fc3 = nn.Linear(256, 10)\n",
        "\n",
        "    def forward(self,x):\n",
        "        out1 = self.conv10(x) # 32,32,32\n",
        "        out2 = self.conv11(x)\n",
        "        x = F.relu(out1+out2)\n",
        "        out3 = self.conv12(x)\n",
        "        x = self.pool(F.relu(x + out3)) # ,32,16,16\n",
        "\n",
        "        out1 = self.conv20(x) # 64,16,16\n",
        "        out2 = self.conv21(x)\n",
        "        x = F.relu(out1+out2)\n",
        "        out3 = self.conv22(x)\n",
        "        x = self.pool(F.relu(x + out3)) # ,64,8,8\n",
        "\n",
        "        out1 = self.conv30(x) # 128,8,8\n",
        "        out2 = self.conv31(x)\n",
        "        x = F.relu(out1+out2)\n",
        "        out3 = self.conv32(x)\n",
        "        x = self.pool(F.relu(x + out3)) # 128,4,4\n",
        "\n",
        "        out1 = self.conv40(x) # 256,4,4\n",
        "        out2 = self.conv41(x)\n",
        "        x = F.relu(out1+out2)\n",
        "        out3 = self.conv42(x)\n",
        "        x = self.pool(F.relu(x + out3)) # 256,2,2\n",
        "\n",
        "        out1 = self.conv50(x) # 512,2,2\n",
        "        out2 = self.conv51(x)\n",
        "        x = F.relu(out1+out2)\n",
        "        out3 = self.conv52(x)\n",
        "        x = F.relu(x + out3)\n",
        "\n",
        "        x = x.view(-1,512*2*2)\n",
        "\n",
        "        x = F.relu(self.fc1(x))\n",
        "        x = self.fc3(self.fc2(x))\n",
        "        return x\n",
        "\n",
        "model = Net().to(device)\n",
        "criterion = nn.CrossEntropyLoss()\n",
        "optimizer = torch.optim.Adam(model.parameters(), lr = 1e-4)\n",
        "\n",
        "#print(model)\n",
        "#model_cpu = Net().to('cpu')\n",
        "#summary(model_cpu, (3,32,32))"
      ]
    },
    {
      "cell_type": "code",
      "execution_count": 11,
      "metadata": {
        "id": "efm8ASvZX9DS",
        "outputId": "0e2480da-a262-48bc-b983-b89feaaba47b",
        "colab": {
          "base_uri": "https://localhost:8080/"
        }
      },
      "outputs": [
        {
          "output_type": "stream",
          "name": "stdout",
          "text": [
            "epoch:1 batch:99 loss:1.52 mean:1.71 error:60/100 errorTotal:6454/10000 64.54% time:8.3\n",
            "epoch:1 batch:199 loss:1.41 mean:1.55 error:50/100 errorTotal:11507/20000 57.53% time:16.6\n",
            "epoch:1 batch:299 loss:1.22 mean:1.46 error:43/100 errorTotal:16169/30000 53.90% time:24.9\n",
            "epoch:1 batch:399 loss:1.15 mean:1.38 error:40/100 errorTotal:20319/40000 50.80% time:33.1\n",
            "epoch:1 batch:499 loss:0.98 mean:1.32 error:33/100 errorTotal:24195/50000 48.39% time:41.4\n",
            "epoch:2 batch:99 loss:1.10 mean:0.99 error:41/100 errorTotal:3541/10000 35.41% time:8.3\n",
            "epoch:2 batch:199 loss:0.89 mean:0.96 error:31/100 errorTotal:6921/20000 34.60% time:16.5\n",
            "epoch:2 batch:299 loss:0.79 mean:0.95 error:28/100 errorTotal:10237/30000 34.12% time:24.8\n",
            "epoch:2 batch:399 loss:0.79 mean:0.93 error:31/100 errorTotal:13379/40000 33.45% time:33.1\n",
            "epoch:2 batch:499 loss:0.85 mean:0.92 error:31/100 errorTotal:16413/50000 32.83% time:41.4\n",
            "epoch:3 batch:99 loss:0.77 mean:0.77 error:29/100 errorTotal:2716/10000 27.16% time:8.3\n",
            "epoch:3 batch:199 loss:0.77 mean:0.77 error:28/100 errorTotal:5410/20000 27.05% time:16.5\n",
            "epoch:3 batch:299 loss:0.85 mean:0.75 error:30/100 errorTotal:7989/30000 26.63% time:24.8\n",
            "epoch:3 batch:399 loss:0.81 mean:0.75 error:21/100 errorTotal:10552/40000 26.38% time:33.1\n",
            "epoch:3 batch:499 loss:0.91 mean:0.74 error:36/100 errorTotal:13064/50000 26.13% time:41.4\n",
            "epoch:4 batch:99 loss:0.75 mean:0.63 error:26/100 errorTotal:2143/10000 21.43% time:8.3\n",
            "epoch:4 batch:199 loss:0.70 mean:0.63 error:26/100 errorTotal:4392/20000 21.96% time:16.5\n",
            "epoch:4 batch:299 loss:0.69 mean:0.63 error:22/100 errorTotal:6639/30000 22.13% time:24.8\n",
            "epoch:4 batch:399 loss:0.66 mean:0.63 error:20/100 errorTotal:8807/40000 22.02% time:33.1\n",
            "epoch:4 batch:499 loss:0.59 mean:0.63 error:21/100 errorTotal:11011/50000 22.02% time:41.3\n",
            "epoch:5 batch:99 loss:0.26 mean:0.53 error:7/100 errorTotal:1853/10000 18.53% time:8.3\n",
            "epoch:5 batch:199 loss:0.60 mean:0.55 error:22/100 errorTotal:3809/20000 19.05% time:16.5\n",
            "epoch:5 batch:299 loss:0.62 mean:0.55 error:20/100 errorTotal:5749/30000 19.16% time:24.8\n",
            "epoch:5 batch:399 loss:0.60 mean:0.55 error:21/100 errorTotal:7593/40000 18.98% time:33.1\n",
            "epoch:5 batch:499 loss:0.57 mean:0.55 error:21/100 errorTotal:9509/50000 19.02% time:41.4\n",
            "epoch:6 batch:99 loss:0.55 mean:0.46 error:17/100 errorTotal:1607/10000 16.07% time:8.3\n",
            "epoch:6 batch:199 loss:0.49 mean:0.47 error:20/100 errorTotal:3281/20000 16.41% time:16.5\n",
            "epoch:6 batch:299 loss:0.67 mean:0.48 error:19/100 errorTotal:5017/30000 16.72% time:24.8\n",
            "epoch:6 batch:399 loss:0.43 mean:0.48 error:13/100 errorTotal:6688/40000 16.72% time:33.1\n",
            "epoch:6 batch:499 loss:0.45 mean:0.48 error:18/100 errorTotal:8328/50000 16.66% time:41.4\n",
            "epoch:7 batch:99 loss:0.35 mean:0.41 error:11/100 errorTotal:1407/10000 14.07% time:8.3\n",
            "epoch:7 batch:199 loss:0.41 mean:0.42 error:15/100 errorTotal:2884/20000 14.42% time:16.5\n",
            "epoch:7 batch:299 loss:0.45 mean:0.42 error:16/100 errorTotal:4250/30000 14.17% time:24.8\n",
            "epoch:7 batch:399 loss:0.38 mean:0.42 error:12/100 errorTotal:5714/40000 14.29% time:33.1\n",
            "epoch:7 batch:499 loss:0.31 mean:0.42 error:11/100 errorTotal:7187/50000 14.37% time:41.3\n",
            "epoch:8 batch:99 loss:0.43 mean:0.34 error:13/100 errorTotal:1129/10000 11.29% time:8.3\n",
            "epoch:8 batch:199 loss:0.37 mean:0.36 error:12/100 errorTotal:2437/20000 12.19% time:16.5\n",
            "epoch:8 batch:299 loss:0.39 mean:0.36 error:14/100 errorTotal:3721/30000 12.40% time:24.8\n",
            "epoch:8 batch:399 loss:0.35 mean:0.36 error:10/100 errorTotal:4974/40000 12.44% time:33.1\n",
            "epoch:8 batch:499 loss:0.34 mean:0.37 error:11/100 errorTotal:6250/50000 12.50% time:41.4\n",
            "epoch:9 batch:99 loss:0.18 mean:0.30 error:7/100 errorTotal:1027/10000 10.27% time:8.3\n",
            "epoch:9 batch:199 loss:0.31 mean:0.31 error:10/100 errorTotal:2155/20000 10.78% time:16.5\n",
            "epoch:9 batch:299 loss:0.45 mean:0.32 error:12/100 errorTotal:3282/30000 10.94% time:24.8\n",
            "epoch:9 batch:399 loss:0.32 mean:0.32 error:12/100 errorTotal:4419/40000 11.05% time:33.1\n",
            "epoch:9 batch:499 loss:0.20 mean:0.33 error:5/100 errorTotal:5589/50000 11.18% time:41.3\n",
            "epoch:10 batch:99 loss:0.28 mean:0.26 error:8/100 errorTotal:920/10000 9.20% time:8.3\n",
            "epoch:10 batch:199 loss:0.28 mean:0.28 error:8/100 errorTotal:1900/20000 9.50% time:16.5\n",
            "epoch:10 batch:299 loss:0.31 mean:0.29 error:13/100 errorTotal:2932/30000 9.77% time:24.8\n",
            "epoch:10 batch:399 loss:0.32 mean:0.29 error:12/100 errorTotal:3991/40000 9.98% time:33.1\n",
            "epoch:10 batch:499 loss:0.40 mean:0.29 error:14/100 errorTotal:5037/50000 10.07% time:41.3\n",
            "epoch:11 batch:99 loss:0.21 mean:0.23 error:8/100 errorTotal:784/10000 7.84% time:8.3\n",
            "epoch:11 batch:199 loss:0.25 mean:0.24 error:8/100 errorTotal:1633/20000 8.16% time:16.5\n",
            "epoch:11 batch:299 loss:0.28 mean:0.25 error:10/100 errorTotal:2557/30000 8.52% time:24.8\n",
            "epoch:11 batch:399 loss:0.41 mean:0.26 error:13/100 errorTotal:3499/40000 8.75% time:33.1\n",
            "epoch:11 batch:499 loss:0.43 mean:0.26 error:13/100 errorTotal:4459/50000 8.92% time:41.3\n",
            "epoch:12 batch:99 loss:0.12 mean:0.22 error:5/100 errorTotal:759/10000 7.59% time:8.3\n",
            "epoch:12 batch:199 loss:0.22 mean:0.22 error:8/100 errorTotal:1490/20000 7.45% time:16.5\n",
            "epoch:12 batch:299 loss:0.18 mean:0.22 error:5/100 errorTotal:2281/30000 7.60% time:24.8\n",
            "epoch:12 batch:399 loss:0.17 mean:0.23 error:6/100 errorTotal:3105/40000 7.76% time:33.1\n",
            "epoch:12 batch:499 loss:0.19 mean:0.23 error:5/100 errorTotal:3921/50000 7.84% time:41.3\n",
            "epoch:13 batch:99 loss:0.14 mean:0.17 error:5/100 errorTotal:555/10000 5.55% time:8.3\n",
            "epoch:13 batch:199 loss:0.23 mean:0.19 error:6/100 errorTotal:1242/20000 6.21% time:16.5\n",
            "epoch:13 batch:299 loss:0.26 mean:0.19 error:8/100 errorTotal:1971/30000 6.57% time:24.8\n",
            "epoch:13 batch:399 loss:0.26 mean:0.20 error:11/100 errorTotal:2698/40000 6.75% time:33.1\n",
            "epoch:13 batch:499 loss:0.23 mean:0.20 error:6/100 errorTotal:3389/50000 6.78% time:41.3\n",
            "epoch:14 batch:99 loss:0.14 mean:0.17 error:7/100 errorTotal:579/10000 5.79% time:8.3\n",
            "epoch:14 batch:199 loss:0.17 mean:0.18 error:6/100 errorTotal:1232/20000 6.16% time:16.5\n",
            "epoch:14 batch:299 loss:0.19 mean:0.18 error:8/100 errorTotal:1848/30000 6.16% time:24.8\n",
            "epoch:14 batch:399 loss:0.17 mean:0.18 error:7/100 errorTotal:2497/40000 6.24% time:33.1\n",
            "epoch:14 batch:499 loss:0.15 mean:0.19 error:4/100 errorTotal:3215/50000 6.43% time:41.3\n",
            "epoch:15 batch:99 loss:0.12 mean:0.15 error:4/100 errorTotal:525/10000 5.25% time:8.3\n",
            "epoch:15 batch:199 loss:0.18 mean:0.15 error:6/100 errorTotal:1043/20000 5.21% time:16.5\n",
            "epoch:15 batch:299 loss:0.14 mean:0.15 error:7/100 errorTotal:1544/30000 5.15% time:24.8\n",
            "epoch:15 batch:399 loss:0.10 mean:0.16 error:1/100 errorTotal:2130/40000 5.33% time:33.1\n",
            "epoch:15 batch:499 loss:0.16 mean:0.17 error:6/100 errorTotal:2793/50000 5.59% time:41.3\n",
            "epoch:16 batch:99 loss:0.14 mean:0.15 error:5/100 errorTotal:477/10000 4.77% time:8.3\n",
            "epoch:16 batch:199 loss:0.14 mean:0.15 error:6/100 errorTotal:998/20000 4.99% time:16.5\n",
            "epoch:16 batch:299 loss:0.11 mean:0.15 error:2/100 errorTotal:1496/30000 4.99% time:24.8\n",
            "epoch:16 batch:399 loss:0.24 mean:0.15 error:7/100 errorTotal:2019/40000 5.05% time:33.1\n",
            "epoch:16 batch:499 loss:0.15 mean:0.15 error:4/100 errorTotal:2578/50000 5.16% time:41.3\n",
            "epoch:17 batch:99 loss:0.10 mean:0.13 error:3/100 errorTotal:432/10000 4.32% time:8.3\n",
            "epoch:17 batch:199 loss:0.18 mean:0.13 error:3/100 errorTotal:911/20000 4.55% time:16.5\n",
            "epoch:17 batch:299 loss:0.14 mean:0.13 error:4/100 errorTotal:1347/30000 4.49% time:24.8\n",
            "epoch:17 batch:399 loss:0.19 mean:0.13 error:7/100 errorTotal:1807/40000 4.52% time:33.1\n",
            "epoch:17 batch:499 loss:0.09 mean:0.14 error:3/100 errorTotal:2284/50000 4.57% time:41.4\n",
            "epoch:18 batch:99 loss:0.20 mean:0.11 error:5/100 errorTotal:370/10000 3.70% time:8.3\n",
            "epoch:18 batch:199 loss:0.19 mean:0.12 error:6/100 errorTotal:764/20000 3.82% time:16.5\n",
            "epoch:18 batch:299 loss:0.10 mean:0.12 error:2/100 errorTotal:1187/30000 3.96% time:24.8\n",
            "epoch:18 batch:399 loss:0.18 mean:0.13 error:5/100 errorTotal:1640/40000 4.10% time:33.1\n",
            "epoch:18 batch:499 loss:0.14 mean:0.13 error:3/100 errorTotal:2118/50000 4.24% time:41.4\n",
            "epoch:19 batch:99 loss:0.09 mean:0.10 error:3/100 errorTotal:334/10000 3.34% time:8.3\n",
            "epoch:19 batch:199 loss:0.05 mean:0.11 error:0/100 errorTotal:754/20000 3.77% time:16.5\n",
            "epoch:19 batch:299 loss:0.11 mean:0.11 error:3/100 errorTotal:1130/30000 3.77% time:24.8\n",
            "epoch:19 batch:399 loss:0.13 mean:0.12 error:5/100 errorTotal:1562/40000 3.90% time:33.1\n",
            "epoch:19 batch:499 loss:0.11 mean:0.12 error:4/100 errorTotal:1992/50000 3.98% time:41.4\n"
          ]
        }
      ],
      "source": [
        "for epoch in range(1,20):\n",
        "  total_loss = []\n",
        "  errorTotal = 0\n",
        "  startTime = time.time()\n",
        "  for batch_idx, (img, label) in enumerate(loader):\n",
        "    img = img.to(device)\n",
        "    label = label.to(device)\n",
        "    outputs = model(img)\n",
        "    loss = criterion(outputs, label)\n",
        "\n",
        "    optimizer.zero_grad()\n",
        "    loss.backward()\n",
        "    optimizer.step()\n",
        "\n",
        "    total_loss.append(loss.item())\n",
        "    maxV,maxIdx = outputs.max(dim=1)\n",
        "    errorNum = torch.sum(torch.ne(maxIdx, label)).item()\n",
        "    errorTotal += errorNum\n",
        "\n",
        "    if(batch_idx % 100 == 99):\n",
        "      print(\"epoch:{} batch:{} loss:{:.2f} mean:{:.2f} error:{}/100 errorTotal:{}/{} {:.2f}% time:{:.1f}\".format(\n",
        "          epoch, batch_idx, loss, np.mean(total_loss), errorNum, errorTotal, (batch_idx+1)*100, errorTotal/(batch_idx+1),\n",
        "          time.time()-startTime))"
      ]
    },
    {
      "cell_type": "code",
      "execution_count": null,
      "metadata": {
        "id": "o_cmksjznCZr"
      },
      "outputs": [],
      "source": [
        "total_loss = []\n",
        "errorTotal = 0\n",
        "for batch_idx, (img, label) in enumerate(loader_test):\n",
        "  img = img.to(device)\n",
        "  label = label.to(device)\n",
        "  outputs = model(img)\n",
        "  loss = criterion_test(outputs, label)\n",
        "\n",
        "  total_loss.append(loss.item())\n",
        "  maxV,maxIdx = outputs.max(dim=1)\n",
        "  errorNum = torch.sum(torch.ne(maxIdx, label)).item()\n",
        "  errorTotal += errorNum\n",
        "\n",
        "  if(batch_idx % 20 == 0):\n",
        "    print(\"epoch:{} batch:{} loss:{:.2f} mean:{:.2f} error:{}/100 errorTotal:{}/{} {:.2f}%\".format(\n",
        "           epoch, batch_idx, loss, np.mean(total_loss), errorNum, errorTotal, (batch_idx+1)*100, errorTotal/(batch_idx+1)))\n",
        "\n"
      ]
    }
  ],
  "metadata": {
    "accelerator": "GPU",
    "colab": {
      "gpuType": "T4",
      "provenance": [],
      "include_colab_link": true
    },
    "kernelspec": {
      "display_name": "Python 3 (ipykernel)",
      "language": "python",
      "name": "python3"
    },
    "language_info": {
      "codemirror_mode": {
        "name": "ipython",
        "version": 3
      },
      "file_extension": ".py",
      "mimetype": "text/x-python",
      "name": "python",
      "nbconvert_exporter": "python",
      "pygments_lexer": "ipython3",
      "version": "3.9.6"
    }
  },
  "nbformat": 4,
  "nbformat_minor": 0
}