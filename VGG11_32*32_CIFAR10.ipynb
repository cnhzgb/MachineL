{
  "nbformat": 4,
  "nbformat_minor": 0,
  "metadata": {
    "colab": {
      "provenance": [],
      "gpuType": "T4",
      "authorship_tag": "ABX9TyMjHwV5U8QGiF3cQ5VhUf7x",
      "include_colab_link": true
    },
    "kernelspec": {
      "name": "python3",
      "display_name": "Python 3"
    },
    "language_info": {
      "name": "python"
    },
    "accelerator": "GPU"
  },
  "cells": [
    {
      "cell_type": "markdown",
      "metadata": {
        "id": "view-in-github",
        "colab_type": "text"
      },
      "source": [
        "<a href=\"https://colab.research.google.com/github/cnhzgb/MachineL/blob/main/VGG11_32*32_CIFAR10.ipynb\" target=\"_parent\"><img src=\"https://colab.research.google.com/assets/colab-badge.svg\" alt=\"Open In Colab\"/></a>"
      ]
    },
    {
      "cell_type": "code",
      "source": [
        "!pip install ipdb\n",
        "!pip install einops\n",
        "import ipdb\n",
        "import torch\n",
        "import torch.nn as nn\n",
        "import torch.nn.functional as F\n",
        "import torch.optim as optim\n",
        "import torchvision\n",
        "import torchvision.datasets as datasets\n",
        "from torch.utils.data import DataLoader\n",
        "import torchvision.transforms as transforms\n",
        "import matplotlib.pyplot as plt\n",
        "import numpy as np\n",
        "from einops import rearrange\n",
        "from torchsummary import summary\n",
        "\n",
        "device = \"cuda\" if torch.cuda.is_available() else \"cpu\""
      ],
      "metadata": {
        "id": "hofQlMWWYHNt",
        "colab": {
          "base_uri": "https://localhost:8080/"
        },
        "outputId": "bcf699b7-cb3d-4758-f675-1b6ce93ab80b"
      },
      "execution_count": 5,
      "outputs": [
        {
          "output_type": "stream",
          "name": "stdout",
          "text": [
            "Requirement already satisfied: ipdb in /usr/local/lib/python3.10/dist-packages (0.13.13)\n",
            "Requirement already satisfied: ipython>=7.31.1 in /usr/local/lib/python3.10/dist-packages (from ipdb) (7.34.0)\n",
            "Requirement already satisfied: tomli in /usr/local/lib/python3.10/dist-packages (from ipdb) (2.0.1)\n",
            "Requirement already satisfied: decorator in /usr/local/lib/python3.10/dist-packages (from ipdb) (4.4.2)\n",
            "Requirement already satisfied: setuptools>=18.5 in /usr/local/lib/python3.10/dist-packages (from ipython>=7.31.1->ipdb) (67.7.2)\n",
            "Requirement already satisfied: jedi>=0.16 in /usr/local/lib/python3.10/dist-packages (from ipython>=7.31.1->ipdb) (0.18.2)\n",
            "Requirement already satisfied: pickleshare in /usr/local/lib/python3.10/dist-packages (from ipython>=7.31.1->ipdb) (0.7.5)\n",
            "Requirement already satisfied: traitlets>=4.2 in /usr/local/lib/python3.10/dist-packages (from ipython>=7.31.1->ipdb) (5.7.1)\n",
            "Requirement already satisfied: prompt-toolkit!=3.0.0,!=3.0.1,<3.1.0,>=2.0.0 in /usr/local/lib/python3.10/dist-packages (from ipython>=7.31.1->ipdb) (3.0.39)\n",
            "Requirement already satisfied: pygments in /usr/local/lib/python3.10/dist-packages (from ipython>=7.31.1->ipdb) (2.14.0)\n",
            "Requirement already satisfied: backcall in /usr/local/lib/python3.10/dist-packages (from ipython>=7.31.1->ipdb) (0.2.0)\n",
            "Requirement already satisfied: matplotlib-inline in /usr/local/lib/python3.10/dist-packages (from ipython>=7.31.1->ipdb) (0.1.6)\n",
            "Requirement already satisfied: pexpect>4.3 in /usr/local/lib/python3.10/dist-packages (from ipython>=7.31.1->ipdb) (4.8.0)\n",
            "Requirement already satisfied: parso<0.9.0,>=0.8.0 in /usr/local/lib/python3.10/dist-packages (from jedi>=0.16->ipython>=7.31.1->ipdb) (0.8.3)\n",
            "Requirement already satisfied: ptyprocess>=0.5 in /usr/local/lib/python3.10/dist-packages (from pexpect>4.3->ipython>=7.31.1->ipdb) (0.7.0)\n",
            "Requirement already satisfied: wcwidth in /usr/local/lib/python3.10/dist-packages (from prompt-toolkit!=3.0.0,!=3.0.1,<3.1.0,>=2.0.0->ipython>=7.31.1->ipdb) (0.2.6)\n",
            "Requirement already satisfied: einops in /usr/local/lib/python3.10/dist-packages (0.6.1)\n"
          ]
        }
      ]
    },
    {
      "cell_type": "code",
      "execution_count": 6,
      "metadata": {
        "id": "7JyY7NuECDB4",
        "outputId": "31e6db27-ffae-4ea3-d188-d1730551ffe9",
        "colab": {
          "base_uri": "https://localhost:8080/"
        }
      },
      "outputs": [
        {
          "output_type": "stream",
          "name": "stdout",
          "text": [
            "Files already downloaded and verified\n",
            "10 50000 torch.Size([100, 3, 32, 32]) torch.Size([100])\n",
            "Files already downloaded and verified\n"
          ]
        }
      ],
      "source": [
        "trans = transforms.Compose([transforms.ToTensor(), transforms.Normalize((0.5,0.5,0.5),(0.5,0.5,0.5))]) # transforms.RandomHorizontalFlip(), transforms.RandomGrayscale()\n",
        "dataset = datasets.CIFAR10(root=\"dataset/\", transform=trans, download=True, train=True) # 5W张图片, 10种分类\n",
        "loader = DataLoader(dataset, batch_size=100, shuffle=True)\n",
        "batch_num,(image, label) = next(enumerate(loader))\n",
        "print(len(dataset.classes), len(dataset), image.shape, label.shape) # 10; 5W; 100,3,32,32; 100\n",
        "\n",
        "trans_test = transforms.Compose([transforms.ToTensor(), transforms.Normalize((0.5,0.5,0.5),(0.5,0.5,0.5))])\n",
        "dataset_test = datasets.CIFAR10(root=\"dataset/\", transform=trans_test, download=True, train=False) # 1W张图片\n",
        "loader_test = DataLoader(dataset_test, batch_size=100, shuffle=True)\n",
        "criterion_test = nn.CrossEntropyLoss()"
      ]
    },
    {
      "cell_type": "code",
      "source": [
        "# https://zhuanlan.zhihu.com/p/87555358\n",
        "class Net(nn.Module):\n",
        "\n",
        "    def __init__(self):\n",
        "        super(Net,self).__init__()\n",
        "        self.conv11 = nn.Conv2d(3,64,3,padding=1)\n",
        "        self.pool1 = nn.MaxPool2d(2, 2)\n",
        "\n",
        "        self.conv21 = nn.Conv2d(64,128,3,padding=1)\n",
        "        self.pool2 = nn.MaxPool2d(2, 2)\n",
        "\n",
        "        self.conv31 = nn.Conv2d(128, 256, 3, padding=1)\n",
        "        self.conv32 = nn.Conv2d(256, 256, 3,padding=1)\n",
        "        self.pool3 = nn.MaxPool2d(2, 2)\n",
        "\n",
        "        self.conv41 = nn.Conv2d(256, 512, 3,padding=1)\n",
        "        self.conv42 = nn.Conv2d(512, 512, 3, padding=1)\n",
        "        self.pool4 = nn.MaxPool2d(2, 2)\n",
        "\n",
        "        self.conv51 = nn.Conv2d(512, 512, 3, padding=1)\n",
        "        self.conv52 = nn.Conv2d(512, 512, 3, padding=1)\n",
        "        self.pool5 = nn.MaxPool2d(2, 2)\n",
        "\n",
        "        fcnum = 1024\n",
        "        self.fc1 = nn.Linear(512*2*2,fcnum)\n",
        "        self.fc2 = nn.Linear(fcnum,fcnum)\n",
        "        self.fc3 = nn.Linear(fcnum,10)\n",
        "\n",
        "\n",
        "    def forward(self,x):\n",
        "        x = F.relu(self.conv11(x)) # => ,64,32,32\n",
        "        x = self.pool1(x) # => ,64,16,16\n",
        "\n",
        "        x = F.relu(self.conv21(x)) # => ,128,16,16\n",
        "        x = self.pool2(x) # => ,128,8,8\n",
        "\n",
        "        x = F.relu(self.conv31(x)) # => ,256,8,8\n",
        "        x = F.relu(self.conv32(x))\n",
        "        x = self.pool3(x) # => ,256,4,4\n",
        "\n",
        "        x = F.relu(self.conv41(x)) # => ,512,4,4\n",
        "        x = F.relu(self.conv42(x))\n",
        "        x = self.pool4(x) # => ,512,2,2\n",
        "\n",
        "        x = F.relu(self.conv51(x)) # => ,512,2,2\n",
        "        x = F.relu(self.conv52(x))\n",
        "        #x = self.pool5(x) # => ,512,1,1\n",
        "\n",
        "        x = x.view(-1,512*2*2)\n",
        "        x = F.relu(self.fc1(x))\n",
        "        x = F.relu(self.fc2(x))\n",
        "        x = self.fc3(x) # => ,10\n",
        "\n",
        "        return x\n",
        "\n",
        "model = Net().to(device)\n",
        "criterion = nn.CrossEntropyLoss()\n",
        "optimizer = torch.optim.Adam(model.parameters(), lr = 1e-4)\n",
        "\n",
        "summary(model, (3,32,32))"
      ],
      "metadata": {
        "id": "Fm-vKBCpQ966",
        "outputId": "146307de-6a9d-40bd-b2f6-42bb53ec7a17",
        "colab": {
          "base_uri": "https://localhost:8080/"
        }
      },
      "execution_count": 9,
      "outputs": [
        {
          "output_type": "stream",
          "name": "stdout",
          "text": [
            "----------------------------------------------------------------\n",
            "        Layer (type)               Output Shape         Param #\n",
            "================================================================\n",
            "            Conv2d-1           [-1, 64, 32, 32]           1,792\n",
            "         MaxPool2d-2           [-1, 64, 16, 16]               0\n",
            "            Conv2d-3          [-1, 128, 16, 16]          73,856\n",
            "         MaxPool2d-4            [-1, 128, 8, 8]               0\n",
            "            Conv2d-5            [-1, 256, 8, 8]         295,168\n",
            "            Conv2d-6            [-1, 256, 8, 8]         590,080\n",
            "         MaxPool2d-7            [-1, 256, 4, 4]               0\n",
            "            Conv2d-8            [-1, 512, 4, 4]       1,180,160\n",
            "            Conv2d-9            [-1, 512, 4, 4]       2,359,808\n",
            "        MaxPool2d-10            [-1, 512, 2, 2]               0\n",
            "           Conv2d-11            [-1, 512, 2, 2]       2,359,808\n",
            "           Conv2d-12            [-1, 512, 2, 2]       2,359,808\n",
            "           Linear-13                 [-1, 1024]       2,098,176\n",
            "           Linear-14                 [-1, 1024]       1,049,600\n",
            "           Linear-15                   [-1, 10]          10,250\n",
            "================================================================\n",
            "Total params: 12,378,506\n",
            "Trainable params: 12,378,506\n",
            "Non-trainable params: 0\n",
            "----------------------------------------------------------------\n",
            "Input size (MB): 0.01\n",
            "Forward/backward pass size (MB): 1.41\n",
            "Params size (MB): 47.22\n",
            "Estimated Total Size (MB): 48.64\n",
            "----------------------------------------------------------------\n"
          ]
        }
      ]
    },
    {
      "cell_type": "code",
      "source": [
        "for epoch in range(1,10):\n",
        "  total_loss = []\n",
        "  errorTotal = 0\n",
        "  for batch_idx, (img, label) in enumerate(loader):\n",
        "    img = img.to(device)\n",
        "    label = label.to(device)\n",
        "    outputs = model(img)\n",
        "    loss = criterion(outputs, label)\n",
        "\n",
        "    optimizer.zero_grad()\n",
        "    loss.backward()\n",
        "    optimizer.step()\n",
        "\n",
        "    total_loss.append(loss.item())\n",
        "    maxV,maxIdx = outputs.max(dim=1)\n",
        "    errorNum = torch.sum(torch.ne(maxIdx, label)).item()\n",
        "    errorTotal += errorNum\n",
        "\n",
        "    if(batch_idx % 100 == 99):\n",
        "      print(\"epoch:{} batch:{} loss:{:.2f} mean:{:.2f} error:{}/100 errorTotal:{}/{} {:.2f}%\".format(\n",
        "          epoch, batch_idx, loss, np.mean(total_loss), errorNum, errorTotal, (batch_idx+1)*100, errorTotal/(batch_idx+1)))"
      ],
      "metadata": {
        "id": "efm8ASvZX9DS",
        "colab": {
          "base_uri": "https://localhost:8080/"
        },
        "outputId": "5d462aca-2423-40b2-92f3-c792e8d4bf8e"
      },
      "execution_count": 10,
      "outputs": [
        {
          "output_type": "stream",
          "name": "stdout",
          "text": [
            "epoch:1 batch:99 loss:2.14 mean:2.14 error:79/100 errorTotal:8255/10000 82.55%\n",
            "epoch:1 batch:199 loss:1.87 mean:2.03 error:75/100 errorTotal:16003/20000 80.02%\n",
            "epoch:1 batch:299 loss:1.72 mean:1.95 error:70/100 errorTotal:23170/30000 77.23%\n",
            "epoch:1 batch:399 loss:1.67 mean:1.89 error:68/100 errorTotal:29966/40000 74.92%\n",
            "epoch:1 batch:499 loss:1.57 mean:1.85 error:57/100 errorTotal:36414/50000 72.83%\n",
            "epoch:2 batch:99 loss:1.42 mean:1.57 error:49/100 errorTotal:6101/10000 61.01%\n",
            "epoch:2 batch:199 loss:1.57 mean:1.53 error:59/100 errorTotal:11822/20000 59.11%\n",
            "epoch:2 batch:299 loss:1.32 mean:1.49 error:54/100 errorTotal:17261/30000 57.54%\n",
            "epoch:2 batch:399 loss:1.37 mean:1.45 error:49/100 errorTotal:22263/40000 55.66%\n",
            "epoch:2 batch:499 loss:1.31 mean:1.42 error:46/100 errorTotal:27236/50000 54.47%\n",
            "epoch:3 batch:99 loss:1.41 mean:1.26 error:55/100 errorTotal:4713/10000 47.13%\n",
            "epoch:3 batch:199 loss:1.30 mean:1.25 error:39/100 errorTotal:9315/20000 46.58%\n",
            "epoch:3 batch:299 loss:1.32 mean:1.23 error:47/100 errorTotal:13605/30000 45.35%\n",
            "epoch:3 batch:399 loss:1.26 mean:1.21 error:48/100 errorTotal:17866/40000 44.66%\n",
            "epoch:3 batch:499 loss:1.21 mean:1.19 error:46/100 errorTotal:21938/50000 43.88%\n",
            "epoch:4 batch:99 loss:1.17 mean:1.07 error:44/100 errorTotal:3935/10000 39.35%\n",
            "epoch:4 batch:199 loss:0.87 mean:1.03 error:34/100 errorTotal:7556/20000 37.78%\n",
            "epoch:4 batch:299 loss:1.09 mean:1.02 error:36/100 errorTotal:11168/30000 37.23%\n",
            "epoch:4 batch:399 loss:0.98 mean:1.01 error:38/100 errorTotal:14633/40000 36.58%\n",
            "epoch:4 batch:499 loss:1.03 mean:1.00 error:40/100 errorTotal:18161/50000 36.32%\n",
            "epoch:5 batch:99 loss:0.72 mean:0.88 error:28/100 errorTotal:3153/10000 31.53%\n",
            "epoch:5 batch:199 loss:1.00 mean:0.87 error:38/100 errorTotal:6278/20000 31.39%\n",
            "epoch:5 batch:299 loss:0.79 mean:0.87 error:30/100 errorTotal:9389/30000 31.30%\n",
            "epoch:5 batch:399 loss:0.67 mean:0.86 error:26/100 errorTotal:12413/40000 31.03%\n",
            "epoch:5 batch:499 loss:0.44 mean:0.85 error:14/100 errorTotal:15461/50000 30.92%\n",
            "epoch:6 batch:99 loss:0.71 mean:0.73 error:30/100 errorTotal:2598/10000 25.98%\n",
            "epoch:6 batch:199 loss:0.73 mean:0.73 error:25/100 errorTotal:5211/20000 26.05%\n",
            "epoch:6 batch:299 loss:0.73 mean:0.72 error:28/100 errorTotal:7755/30000 25.85%\n",
            "epoch:6 batch:399 loss:0.69 mean:0.72 error:26/100 errorTotal:10372/40000 25.93%\n",
            "epoch:6 batch:499 loss:0.61 mean:0.72 error:24/100 errorTotal:12880/50000 25.76%\n",
            "epoch:7 batch:99 loss:0.44 mean:0.59 error:15/100 errorTotal:2103/10000 21.03%\n",
            "epoch:7 batch:199 loss:0.50 mean:0.60 error:15/100 errorTotal:4287/20000 21.43%\n",
            "epoch:7 batch:299 loss:0.69 mean:0.61 error:21/100 errorTotal:6494/30000 21.65%\n",
            "epoch:7 batch:399 loss:0.50 mean:0.61 error:20/100 errorTotal:8610/40000 21.52%\n",
            "epoch:7 batch:499 loss:0.49 mean:0.60 error:23/100 errorTotal:10669/50000 21.34%\n",
            "epoch:8 batch:99 loss:0.58 mean:0.46 error:20/100 errorTotal:1614/10000 16.14%\n",
            "epoch:8 batch:199 loss:0.59 mean:0.48 error:21/100 errorTotal:3367/20000 16.84%\n",
            "epoch:8 batch:299 loss:0.45 mean:0.48 error:16/100 errorTotal:5006/30000 16.69%\n",
            "epoch:8 batch:399 loss:0.38 mean:0.48 error:12/100 errorTotal:6713/40000 16.78%\n",
            "epoch:8 batch:499 loss:0.45 mean:0.48 error:16/100 errorTotal:8414/50000 16.83%\n",
            "epoch:9 batch:99 loss:0.43 mean:0.34 error:17/100 errorTotal:1214/10000 12.14%\n",
            "epoch:9 batch:199 loss:0.28 mean:0.36 error:8/100 errorTotal:2530/20000 12.65%\n",
            "epoch:9 batch:299 loss:0.26 mean:0.37 error:7/100 errorTotal:3885/30000 12.95%\n",
            "epoch:9 batch:399 loss:0.44 mean:0.37 error:14/100 errorTotal:5229/40000 13.07%\n",
            "epoch:9 batch:499 loss:0.34 mean:0.38 error:14/100 errorTotal:6613/50000 13.23%\n"
          ]
        }
      ]
    }
  ]
}