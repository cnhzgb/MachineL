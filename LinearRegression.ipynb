{
  "nbformat": 4,
  "nbformat_minor": 0,
  "metadata": {
    "colab": {
      "provenance": [],
      "authorship_tag": "ABX9TyOTetGXMNih3xowu0tmrDIw",
      "include_colab_link": true
    },
    "kernelspec": {
      "name": "python3",
      "display_name": "Python 3"
    },
    "language_info": {
      "name": "python"
    }
  },
  "cells": [
    {
      "cell_type": "markdown",
      "metadata": {
        "id": "view-in-github",
        "colab_type": "text"
      },
      "source": [
        "<a href=\"https://colab.research.google.com/github/cnhzgb/MachineL/blob/main/LinearRegression.ipynb\" target=\"_parent\"><img src=\"https://colab.research.google.com/assets/colab-badge.svg\" alt=\"Open In Colab\"/></a>"
      ]
    },
    {
      "cell_type": "code",
      "execution_count": 20,
      "metadata": {
        "colab": {
          "base_uri": "https://localhost:8080/"
        },
        "id": "i36mM46BTZ0l",
        "outputId": "bb981707-06f8-41f4-8ae3-af6c1ce7e468"
      },
      "outputs": [
        {
          "output_type": "stream",
          "name": "stdout",
          "text": [
            "输入 tensor([[ 16.7097,  -3.8505],\n",
            "        [ -3.7883,  -2.7475],\n",
            "        [ -5.0244,  -3.3187],\n",
            "        [  2.6673,  -5.5750],\n",
            "        [-13.4510,  -0.2528],\n",
            "        [-12.7399, -11.5112],\n",
            "        [  3.1535,  29.9863],\n",
            "        [ -9.5781,   4.3278],\n",
            "        [  4.5246,   1.0859],\n",
            "        [  3.9569, -14.8564]]) \n",
            "偏移量 tensor([[ 2.2178],\n",
            "        [ 0.1217],\n",
            "        [-2.1282],\n",
            "        [-0.8014],\n",
            "        [-0.9608],\n",
            "        [-0.3417],\n",
            "        [-0.8186],\n",
            "        [-0.6293],\n",
            "        [ 1.1577],\n",
            "        [ 0.9286]]) \n",
            "目标值 tensor([[ 15.0770],\n",
            "        [ -6.4142],\n",
            "        [-10.4714],\n",
            "        [ -3.7092],\n",
            "        [-14.6646],\n",
            "        [-24.5928],\n",
            "        [ 32.3212],\n",
            "        [ -5.8797],\n",
            "        [  6.7682],\n",
            "        [ -9.9709]])\n",
            "\n",
            "先观察下模型初始的随机值\n",
            "weight tensor([[0.5984, 0.4612]])\n",
            "bias tensor([0.4209])\n",
            "\n",
            "会发现差异值越来越小，说明模型在收敛\n",
            "Epoch: 9 | loss: 9.01\n",
            "Epoch: 19 | loss: 0.74\n",
            "Epoch: 29 | loss: 1.06\n",
            "Epoch: 39 | loss: 1.11\n",
            "Epoch: 49 | loss: 0.83\n",
            "\n",
            "可以看到预测值和目标值近似，说明模型训练成功\n",
            "test: tensor([[-2.2486, -2.8746]]) pred: tensor([[-5.0994]], grad_fn=<AddmmBackward0>) target: tensor([[-5.1231]])\n",
            "\n",
            "可以看到经过训练后的模型值w1、w2接近于1\n",
            "weight tensor([[1.0676, 0.9409]])\n",
            "bias tensor([0.0059])\n"
          ]
        }
      ],
      "source": [
        "from torch import nn\n",
        "from torch.optim import Adam\n",
        "import torch\n",
        "\n",
        "model = nn.Linear(2, 1)  # 模型定义，内部是 2 * 1的矩阵\n",
        "optimizer = Adam(model.parameters(), lr=1e-1)\n",
        "loss_fn = nn.MSELoss()\n",
        "\n",
        "## 输入是 10 * 2矩阵，可以理解为10个样本输入，每个样本是一对值组成，譬如:样本A(0.3,0,6) 样本B(0.2,0,8)\n",
        "## 目标是 10 * 1矩阵，可以理解为10个样本对应的值， 这里简单把每个样本的两个值相加，并加入一个随机变量。\n",
        "## 对于单个变量， Y = sum[x1,x2] + 随机值， 希望模型能够学会的是 Y = w1 * x1 + w2 * x2，这里的w1, w2就是模型的2*1矩阵的两个值，希望w1、w2最终学为1\n",
        "input = torch.randn(10,2) * 10\n",
        "bias = torch.randn(10,1)\n",
        "target = torch.add(input.sum(dim=1, keepdim=True),bias)\n",
        "print('输入',input,'\\n偏移量', bias, '\\n目标值', target)\n",
        "\n",
        "print(\"\\n先观察下模型初始的随机值\")\n",
        "for name, param in model.named_parameters():\n",
        "  print(name, param.data)\n",
        "\n",
        "print(\"\\n会发现差异值越来越小，说明模型在收敛\")\n",
        "for epoch in range(50): # 练习200轮\n",
        "    pred = model(input) # 输入 10*2 乘积模型的 2*1 得到预测值 10*1\n",
        "\n",
        "    loss = loss_fn(pred, target) # 和目标值差异\n",
        "\n",
        "    # 根据差异，修正模型参数。就是调w1, w2两个参数\n",
        "    optimizer.zero_grad()\n",
        "    loss.backward()\n",
        "    optimizer.step()\n",
        "\n",
        "    if epoch%10==9:\n",
        "        print (f\"Epoch: {epoch} | loss: {loss:.2f}\")\n",
        "\n",
        "# 那一对随机值，侧下模型， 是否产出值 = sum([x1,x2])\n",
        "test = torch.randn(1,2) * 10\n",
        "target = test.sum(dim=1, keepdim=True)\n",
        "pred = model(test)\n",
        "print('\\n可以看到预测值和目标值近似，说明模型训练成功\\ntest:',test, 'pred:',pred, 'target:', target)\n",
        "\n",
        "print(\"\\n可以看到经过训练后的模型值w1、w2接近于1\")\n",
        "for name, param in model.named_parameters():\n",
        "  print(name, param.data)"
      ]
    }
  ]
}