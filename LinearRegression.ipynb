{
  "nbformat": 4,
  "nbformat_minor": 0,
  "metadata": {
    "colab": {
      "provenance": [],
      "authorship_tag": "ABX9TyOj/0crOB3w/tr0CMl6TswX",
      "include_colab_link": true
    },
    "kernelspec": {
      "name": "python3",
      "display_name": "Python 3"
    },
    "language_info": {
      "name": "python"
    }
  },
  "cells": [
    {
      "cell_type": "markdown",
      "metadata": {
        "id": "view-in-github",
        "colab_type": "text"
      },
      "source": [
        "<a href=\"https://colab.research.google.com/github/cnhzgb/MachineL/blob/main/LinearRegression.ipynb\" target=\"_parent\"><img src=\"https://colab.research.google.com/assets/colab-badge.svg\" alt=\"Open In Colab\"/></a>"
      ]
    },
    {
      "cell_type": "code",
      "execution_count": 11,
      "metadata": {
        "colab": {
          "base_uri": "https://localhost:8080/"
        },
        "id": "i36mM46BTZ0l",
        "outputId": "01595ddb-ac6e-4ad7-f94f-a350d60faeab"
      },
      "outputs": [
        {
          "output_type": "stream",
          "name": "stdout",
          "text": [
            "Epoch: 0 | loss: 565.96\n",
            "Epoch: 50 | loss: 2.21\n",
            "Epoch: 100 | loss: 0.45\n",
            "Epoch: 150 | loss: 0.43\n",
            "Epoch: 200 | loss: 0.43\n",
            "test: tensor([[-13.3387,  -0.9186]]) pred: tensor([[-13.4642]], grad_fn=<AddmmBackward0>) target: tensor([[-14.2573]])\n",
            "weight tensor([[0.9539, 0.9990]])\n",
            "bias tensor([0.1772])\n"
          ]
        }
      ],
      "source": [
        "from torch import nn\n",
        "from torch.optim import Adam\n",
        "import torch\n",
        "\n",
        "model = nn.Linear(2, 1)\n",
        "optimizer = Adam(model.parameters(), lr=1e-1)\n",
        "loss_fn = nn.MSELoss()\n",
        "\n",
        "input = torch.randn(10,2) * 10\n",
        "bias = torch.randn(10,1)\n",
        "target = torch.add(input.sum(dim=1, keepdim=True),bias)\n",
        "# print(input,'\\n', bias, '\\n', target)\n",
        "\n",
        "for epoch in range(201):\n",
        "    pred = model(input)\n",
        "\n",
        "    loss = loss_fn(pred, target)\n",
        "\n",
        "    optimizer.zero_grad()\n",
        "    loss.backward()\n",
        "    optimizer.step()\n",
        "\n",
        "    if epoch%50==0:\n",
        "        print (f\"Epoch: {epoch} | loss: {loss:.2f}\")\n",
        "\n",
        "test = torch.randn(1,2) * 10\n",
        "target = test.sum(dim=1, keepdim=True)\n",
        "pred = model(test)\n",
        "print('test:',test, 'pred:',pred, 'target:', target)\n",
        "\n",
        "for name, param in model.named_parameters():\n",
        "  print(name, param.data)"
      ]
    }
  ]
}