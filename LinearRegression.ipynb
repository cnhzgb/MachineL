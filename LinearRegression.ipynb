{
  "nbformat": 4,
  "nbformat_minor": 0,
  "metadata": {
    "colab": {
      "provenance": [],
      "authorship_tag": "ABX9TyP3/QxRB3KTZawhAl6ac+wU",
      "include_colab_link": true
    },
    "kernelspec": {
      "name": "python3",
      "display_name": "Python 3"
    },
    "language_info": {
      "name": "python"
    }
  },
  "cells": [
    {
      "cell_type": "markdown",
      "metadata": {
        "id": "view-in-github",
        "colab_type": "text"
      },
      "source": [
        "<a href=\"https://colab.research.google.com/github/cnhzgb/MachineL/blob/main/LinearRegression.ipynb\" target=\"_parent\"><img src=\"https://colab.research.google.com/assets/colab-badge.svg\" alt=\"Open In Colab\"/></a>"
      ]
    },
    {
      "cell_type": "code",
      "execution_count": 1,
      "metadata": {
        "colab": {
          "base_uri": "https://localhost:8080/"
        },
        "id": "i36mM46BTZ0l",
        "outputId": "9beae8d3-cd2c-4acf-b79f-d7a599fa523f"
      },
      "outputs": [
        {
          "output_type": "stream",
          "name": "stdout",
          "text": [
            "训练样本输入 tensor([[ 10.4927,  -4.4777],\n",
            "        [ -6.4842, -15.8841],\n",
            "        [-10.5537,   0.1591],\n",
            "        [ 18.3874,  -8.9896],\n",
            "        [ 14.0795, -12.5681],\n",
            "        [  0.3975,  -5.2402],\n",
            "        [ -4.6396,  -1.5008],\n",
            "        [ 16.3098,   1.9003],\n",
            "        [ 16.4012,   4.9522],\n",
            "        [  1.0733,   3.7133]]) \n",
            "训练样本输入-偏移量 tensor([[ 5.1933e-01],\n",
            "        [-1.0514e+00],\n",
            "        [ 1.8290e+00],\n",
            "        [ 9.7870e-01],\n",
            "        [-8.7085e-01],\n",
            "        [ 7.8268e-01],\n",
            "        [-4.4423e-01],\n",
            "        [-8.4132e-02],\n",
            "        [ 1.1139e-04],\n",
            "        [-2.6696e-01]]) \n",
            "训练样本目标值 tensor([[  6.5344],\n",
            "        [-23.4197],\n",
            "        [ -8.5656],\n",
            "        [ 10.3765],\n",
            "        [  0.6406],\n",
            "        [ -4.0600],\n",
            "        [ -6.5846],\n",
            "        [ 18.1260],\n",
            "        [ 21.3535],\n",
            "        [  4.5197]])\n",
            "\n",
            "模型内部参数的初始随机值\n",
            "weight tensor([[ 0.3306, -0.3753]])\n",
            "bias tensor([-0.3847])\n",
            "\n",
            "开始训练，会发现差异值越来越小，说明模型在收敛\n",
            "Epoch: 9 | loss: 15.26\n",
            "Epoch: 19 | loss: 7.09\n",
            "Epoch: 29 | loss: 4.50\n",
            "Epoch: 39 | loss: 1.18\n",
            "Epoch: 49 | loss: 1.21\n",
            "Epoch: 59 | loss: 0.67\n",
            "Epoch: 69 | loss: 0.70\n",
            "Epoch: 79 | loss: 0.64\n",
            "Epoch: 89 | loss: 0.64\n",
            "Epoch: 99 | loss: 0.64\n",
            "\n",
            "训练完毕，测试模型。\n",
            "可以看到预测值和目标值近似，说明模型训练成功\n",
            "测试输入: tensor([[ -9.8970, -19.4987]]) 模型预测: tensor([[-29.8820]]) 目标值: tensor([[-29.3957]])\n",
            "\n",
            "可以看到经过训练后的模型值w1、w2接近于1\n",
            "weight tensor([[0.9921, 1.0479]])\n",
            "bias tensor([0.3684])\n"
          ]
        }
      ],
      "source": [
        "from torch import nn\n",
        "from torch.optim import Adam\n",
        "import torch\n",
        "\n",
        "model = nn.Linear(2, 1)  # 模型定义，内部是 2 * 1的矩阵\n",
        "optimizer = Adam(model.parameters(), lr=1e-1)\n",
        "loss_fn = nn.MSELoss()\n",
        "\n",
        "## 输入是 10 * 2矩阵，可以理解为10个样本输入，每个样本是一对值组成，譬如:样本A(0.3,0,6) 样本B(0.2,0,8)\n",
        "## 目标是 10 * 1矩阵，可以理解为10个样本对应的值， 这里简单把每个样本的两个值相加，并加入一个随机变量。\n",
        "## 对于单个变量， Y = sum[x1,x2] + 随机值， 希望模型能够学会的是 Y = w1 * x1 + w2 * x2，这里的w1, w2就是模型的2*1矩阵的两个值，希望w1、w2最终学为1\n",
        "input = torch.randn(10,2) * 10\n",
        "bias = torch.randn(10,1)\n",
        "target = torch.add(input.sum(dim=1, keepdim=True),bias)\n",
        "print('训练样本输入',input,'\\n训练样本输入-偏移量', bias, '\\n训练样本目标值', target)\n",
        "\n",
        "print(\"\\n模型内部参数的初始随机值\")\n",
        "for name, param in model.named_parameters():\n",
        "  print(name, param.data)\n",
        "\n",
        "print(\"\\n开始训练，会发现差异值越来越小，说明模型在收敛\")\n",
        "for epoch in range(100): # 练习100轮\n",
        "    pred = model(input) # 输入 10*2 乘积模型的 2*1 得到预测值 10*1\n",
        "\n",
        "    loss = loss_fn(pred, target) # 和目标值差异\n",
        "\n",
        "    # 根据差异，修正模型参数。就是调w1, w2两个参数\n",
        "    optimizer.zero_grad()\n",
        "    loss.backward()\n",
        "    optimizer.step()\n",
        "\n",
        "    if epoch%10==9:\n",
        "        print (f\"Epoch: {epoch} | loss: {loss:.2f}\")\n",
        "\n",
        "# 那一对随机值，侧下模型， 是否产出值 = sum([x1,x2])\n",
        "test = torch.randn(1,2) * 10\n",
        "target = test.sum(dim=1, keepdim=True)\n",
        "pred = model(test)\n",
        "print('\\n训练完毕，测试模型。\\n可以看到预测值和目标值近似，说明模型训练成功\\n测试输入:',test, '模型预测:',pred.detach(), '目标值:', target)\n",
        "\n",
        "print(\"\\n可以看到经过训练后的模型值w1、w2接近于1\")\n",
        "for name, param in model.named_parameters():\n",
        "  print(name, param.data)"
      ]
    }
  ]
}