{
  "nbformat": 4,
  "nbformat_minor": 0,
  "metadata": {
    "colab": {
      "provenance": [],
      "authorship_tag": "ABX9TyMcTLPUD7JZKFLuOlw/wOV9",
      "include_colab_link": true
    },
    "kernelspec": {
      "name": "python3",
      "display_name": "Python 3"
    },
    "language_info": {
      "name": "python"
    }
  },
  "cells": [
    {
      "cell_type": "markdown",
      "metadata": {
        "id": "view-in-github",
        "colab_type": "text"
      },
      "source": [
        "<a href=\"https://colab.research.google.com/github/cnhzgb/MachineL/blob/main/RNN.ipynb\" target=\"_parent\"><img src=\"https://colab.research.google.com/assets/colab-badge.svg\" alt=\"Open In Colab\"/></a>"
      ]
    },
    {
      "cell_type": "code",
      "source": [
        "import numpy as np\n",
        "import pandas as pd\n",
        "import random\n",
        "import torch\n",
        "import torch.nn as nn"
      ],
      "metadata": {
        "id": "IFbHHxIINIYO"
      },
      "execution_count": 1,
      "outputs": []
    },
    {
      "cell_type": "code",
      "execution_count": 7,
      "metadata": {
        "colab": {
          "base_uri": "https://localhost:8080/"
        },
        "id": "N5GiMXElDrpp",
        "outputId": "e0a818c5-3343-4a57-eade-2f851e48d9d5"
      },
      "outputs": [
        {
          "output_type": "execute_result",
          "data": {
            "text/plain": [
              "tensor([[ 0.2685, -0.0280,  0.2228]], grad_fn=<AddmmBackward0>)"
            ]
          },
          "metadata": {},
          "execution_count": 7
        }
      ],
      "source": [
        "x = torch.rand((1, 3, 10)) # 每批次 1 个样本 * 单据最大 3 个词  * 每个词用 10 长度编码\n",
        "x = x.permute(1, 0, 2) # 变换位 3*1*10，把每句单词数放第一，用于for遍历\n",
        "\n",
        "\n",
        "rnn_cell = nn.RNNCell(10, 12) # 每个单词编码长度 10，隐藏层矩阵大小 12\n",
        "\n",
        "hidden_t = torch.zeros((1, 12)) # 初始的隐藏层，每批次 1个样本 * 12 大小\n",
        "for t in range(3): # 遍历每个单词\n",
        "    hidden_t = rnn_cell(x[t], hidden_t)\n",
        "\n",
        "# 三个单词都处理后，拿最后的输出做 12 => 3的全链接处理\n",
        "fc = nn.Linear(12, 3)\n",
        "fc(hidden_t) # 3个分类的概率"
      ]
    }
  ]
}