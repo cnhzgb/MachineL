{
  "nbformat": 4,
  "nbformat_minor": 0,
  "metadata": {
    "colab": {
      "name": "DL-with-pytorch - 4 [CNN].ipynb",
      "provenance": []
    },
    "kernelspec": {
      "name": "python3",
      "display_name": "Python 3"
    },
    "accelerator": "GPU"
  },
  "cells": [
    {
      "metadata": {
        "id": "GVU5-yp3N89I",
        "colab": {
          "base_uri": "https://localhost:8080/"
        },
        "outputId": "dd8d73d9-80ae-4bfe-e6bb-9ef6a79aa543"
      },
      "cell_type": "code",
      "source": [
        "!pip3 install torch torchvision\n",
        "!pip install ipdb"
      ],
      "execution_count": 1,
      "outputs": [
        {
          "output_type": "stream",
          "name": "stdout",
          "text": [
            "Requirement already satisfied: torch in /usr/local/lib/python3.10/dist-packages (2.0.1+cu118)\n",
            "Requirement already satisfied: torchvision in /usr/local/lib/python3.10/dist-packages (0.15.2+cu118)\n",
            "Requirement already satisfied: filelock in /usr/local/lib/python3.10/dist-packages (from torch) (3.12.2)\n",
            "Requirement already satisfied: typing-extensions in /usr/local/lib/python3.10/dist-packages (from torch) (4.6.3)\n",
            "Requirement already satisfied: sympy in /usr/local/lib/python3.10/dist-packages (from torch) (1.11.1)\n",
            "Requirement already satisfied: networkx in /usr/local/lib/python3.10/dist-packages (from torch) (3.1)\n",
            "Requirement already satisfied: jinja2 in /usr/local/lib/python3.10/dist-packages (from torch) (3.1.2)\n",
            "Requirement already satisfied: triton==2.0.0 in /usr/local/lib/python3.10/dist-packages (from torch) (2.0.0)\n",
            "Requirement already satisfied: cmake in /usr/local/lib/python3.10/dist-packages (from triton==2.0.0->torch) (3.25.2)\n",
            "Requirement already satisfied: lit in /usr/local/lib/python3.10/dist-packages (from triton==2.0.0->torch) (16.0.6)\n",
            "Requirement already satisfied: numpy in /usr/local/lib/python3.10/dist-packages (from torchvision) (1.22.4)\n",
            "Requirement already satisfied: requests in /usr/local/lib/python3.10/dist-packages (from torchvision) (2.27.1)\n",
            "Requirement already satisfied: pillow!=8.3.*,>=5.3.0 in /usr/local/lib/python3.10/dist-packages (from torchvision) (8.4.0)\n",
            "Requirement already satisfied: MarkupSafe>=2.0 in /usr/local/lib/python3.10/dist-packages (from jinja2->torch) (2.1.3)\n",
            "Requirement already satisfied: urllib3<1.27,>=1.21.1 in /usr/local/lib/python3.10/dist-packages (from requests->torchvision) (1.26.16)\n",
            "Requirement already satisfied: certifi>=2017.4.17 in /usr/local/lib/python3.10/dist-packages (from requests->torchvision) (2023.5.7)\n",
            "Requirement already satisfied: charset-normalizer~=2.0.0 in /usr/local/lib/python3.10/dist-packages (from requests->torchvision) (2.0.12)\n",
            "Requirement already satisfied: idna<4,>=2.5 in /usr/local/lib/python3.10/dist-packages (from requests->torchvision) (3.4)\n",
            "Requirement already satisfied: mpmath>=0.19 in /usr/local/lib/python3.10/dist-packages (from sympy->torch) (1.3.0)\n",
            "Collecting ipdb\n",
            "  Downloading ipdb-0.13.13-py3-none-any.whl (12 kB)\n",
            "Requirement already satisfied: ipython>=7.31.1 in /usr/local/lib/python3.10/dist-packages (from ipdb) (7.34.0)\n",
            "Requirement already satisfied: tomli in /usr/local/lib/python3.10/dist-packages (from ipdb) (2.0.1)\n",
            "Requirement already satisfied: decorator in /usr/local/lib/python3.10/dist-packages (from ipdb) (4.4.2)\n",
            "Requirement already satisfied: setuptools>=18.5 in /usr/local/lib/python3.10/dist-packages (from ipython>=7.31.1->ipdb) (67.7.2)\n",
            "Collecting jedi>=0.16 (from ipython>=7.31.1->ipdb)\n",
            "  Downloading jedi-0.18.2-py2.py3-none-any.whl (1.6 MB)\n",
            "\u001b[2K     \u001b[90m━━━━━━━━━━━━━━━━━━━━━━━━━━━━━━━━━━━━━━━━\u001b[0m \u001b[32m1.6/1.6 MB\u001b[0m \u001b[31m25.4 MB/s\u001b[0m eta \u001b[36m0:00:00\u001b[0m\n",
            "\u001b[?25hRequirement already satisfied: pickleshare in /usr/local/lib/python3.10/dist-packages (from ipython>=7.31.1->ipdb) (0.7.5)\n",
            "Requirement already satisfied: traitlets>=4.2 in /usr/local/lib/python3.10/dist-packages (from ipython>=7.31.1->ipdb) (5.7.1)\n",
            "Requirement already satisfied: prompt-toolkit!=3.0.0,!=3.0.1,<3.1.0,>=2.0.0 in /usr/local/lib/python3.10/dist-packages (from ipython>=7.31.1->ipdb) (3.0.38)\n",
            "Requirement already satisfied: pygments in /usr/local/lib/python3.10/dist-packages (from ipython>=7.31.1->ipdb) (2.14.0)\n",
            "Requirement already satisfied: backcall in /usr/local/lib/python3.10/dist-packages (from ipython>=7.31.1->ipdb) (0.2.0)\n",
            "Requirement already satisfied: matplotlib-inline in /usr/local/lib/python3.10/dist-packages (from ipython>=7.31.1->ipdb) (0.1.6)\n",
            "Requirement already satisfied: pexpect>4.3 in /usr/local/lib/python3.10/dist-packages (from ipython>=7.31.1->ipdb) (4.8.0)\n",
            "Requirement already satisfied: parso<0.9.0,>=0.8.0 in /usr/local/lib/python3.10/dist-packages (from jedi>=0.16->ipython>=7.31.1->ipdb) (0.8.3)\n",
            "Requirement already satisfied: ptyprocess>=0.5 in /usr/local/lib/python3.10/dist-packages (from pexpect>4.3->ipython>=7.31.1->ipdb) (0.7.0)\n",
            "Requirement already satisfied: wcwidth in /usr/local/lib/python3.10/dist-packages (from prompt-toolkit!=3.0.0,!=3.0.1,<3.1.0,>=2.0.0->ipython>=7.31.1->ipdb) (0.2.6)\n",
            "Installing collected packages: jedi, ipdb\n",
            "Successfully installed ipdb-0.13.13 jedi-0.18.2\n"
          ]
        }
      ]
    },
    {
      "metadata": {
        "id": "8yy37hEYOEiQ"
      },
      "cell_type": "code",
      "source": [
        "import numpy as np\n",
        "import torch, torchvision\n",
        "import torch.nn as nn\n",
        "import torch.nn.functional as F\n",
        "import ipdb\n",
        "from torchvision import datasets\n",
        "import random\n",
        "import matplotlib.pyplot as plt\n",
        "from torchvision import transforms\n",
        "\n",
        "DEVICE = torch.device('cuda')"
      ],
      "execution_count": 2,
      "outputs": []
    },
    {
      "metadata": {
        "id": "W5anlYa01w3w",
        "colab": {
          "base_uri": "https://localhost:8080/"
        },
        "outputId": "c9eaa921-62a1-4581-b284-a722d618dfb5"
      },
      "cell_type": "code",
      "source": [
        "train_dataset = datasets.CIFAR10(root = \"/\", train = True, download = True, transform = transforms.ToTensor())\n",
        "train_loader = torch.utils.data.DataLoader(train_dataset, batch_size = 64, shuffle = True)"
      ],
      "execution_count": 3,
      "outputs": [
        {
          "output_type": "stream",
          "name": "stdout",
          "text": [
            "Downloading https://www.cs.toronto.edu/~kriz/cifar-10-python.tar.gz to /cifar-10-python.tar.gz\n"
          ]
        },
        {
          "output_type": "stream",
          "name": "stderr",
          "text": [
            "100%|██████████| 170498071/170498071 [00:03<00:00, 48713505.61it/s]\n"
          ]
        },
        {
          "output_type": "stream",
          "name": "stdout",
          "text": [
            "Extracting /cifar-10-python.tar.gz to /\n"
          ]
        }
      ]
    },
    {
      "cell_type": "code",
      "source": [
        "print('十种分类:', train_dataset.classes, ' 图片数量:', len(train_dataset))\n",
        "img, label = train_dataset[random.randint(0,len(train_dataset))] ## 随机取一张图片\n",
        "print('图片矩阵的形状是:', img.shape) # 3个RGB维度 * 32 长 * 32 宽\n",
        "print('对应的分类是:', train_dataset.classes[label])\n",
        "\n",
        "## 图片打印出来看看\n",
        "img0 = torchvision.utils.make_grid(img)\n",
        "img1 = img0 / 2 + 0.5\n",
        "img2 = img1.numpy()\n",
        "img3 = np.transpose(img2, (1,2,0))\n",
        "plt.figure(figsize=(1,1))\n",
        "plt.imshow(img3)"
      ],
      "metadata": {
        "colab": {
          "base_uri": "https://localhost:8080/",
          "height": 213
        },
        "id": "VBQrv6EXf2Le",
        "outputId": "3f64cdf6-1ae4-47a6-beb6-f5b63b5d800e"
      },
      "execution_count": 4,
      "outputs": [
        {
          "output_type": "stream",
          "name": "stdout",
          "text": [
            "十种分类: ['airplane', 'automobile', 'bird', 'cat', 'deer', 'dog', 'frog', 'horse', 'ship', 'truck']  图片数量: 50000\n",
            "图片矩阵的形状是: torch.Size([3, 32, 32])\n",
            "对应的分类是: cat\n"
          ]
        },
        {
          "output_type": "execute_result",
          "data": {
            "text/plain": [
              "<matplotlib.image.AxesImage at 0x7fec98943250>"
            ]
          },
          "metadata": {},
          "execution_count": 4
        },
        {
          "output_type": "display_data",
          "data": {
            "text/plain": [
              "<Figure size 100x100 with 1 Axes>"
            ],
            "image/png": "[encoded data removed]"
          },
          "metadata": {}
        }
      ]
    },
    {
      "metadata": {
        "id": "AQawpMRPI7jm"
      },
      "cell_type": "code",
      "source": [
        "class net(nn.Module):\n",
        "  def __init__(self):\n",
        "    super(net, self).__init__()\n",
        "\n",
        "    self.conv = nn.Conv2d(in_channels=3, out_channels=6, kernel_size = 5, stride = 1) # 卷积层\n",
        "    self.pool = nn.MaxPool2d(kernel_size = 4, stride = 4) # 池化层\n",
        "    self.relu = nn.ReLU() # 激活函数\n",
        "    self.dense = nn.Linear(294, 10) # 全链接层\n",
        "\n",
        "  def forward(self, x):\n",
        "    # x 初始形状为 64,3,32,32 一批的样本数,RGB三通道,长,宽\n",
        "    # ipdb.set_trace() 打开后可以debug调试\n",
        "    x = self.conv(x) # 经过卷积，x 形状为 64,6,28,28  样本数,卷积后的通道数、长、宽\n",
        "    x = self.relu(x) # 激活函数的数值处理，x形状不变 64,6,28,28\n",
        "    x = self.pool(x) # 经过池化，x形状为 64,6,7,7  样本数,卷积后通道数,池化后长、宽\n",
        "    x = x.view(x.size(0), -1)   # 将单个的样本，打平到一维数组，变为 64,294  样本数，单样本的特征数量\n",
        "    x = self.dense(x) # 通过全连接，将单样本特征映射到10个分类上，变为 64,10  样本数，单样本在每个分类上的概率\n",
        "    return x"
      ],
      "execution_count": 5,
      "outputs": []
    },
    {
      "metadata": {
        "id": "cPBm8qDrSWsi"
      },
      "cell_type": "code",
      "source": [
        "model = net().to(DEVICE)  # 模型\n",
        "criterion = nn.CrossEntropyLoss() # 损失函数\n",
        "optimizer = torch.optim.Adam(model.parameters(), lr = 1e-1) # 优化器"
      ],
      "execution_count": 6,
      "outputs": []
    },
    {
      "metadata": {
        "id": "SEBtAPYCFeic",
        "outputId": "6db73407-572c-4b49-d662-5cb7924629aa",
        "colab": {
          "base_uri": "https://localhost:8080/"
        }
      },
      "cell_type": "code",
      "source": [
        "for i in range(3):\n",
        "  temp_loss = []\n",
        "  for (x, y) in train_loader:\n",
        "    x, y = x.float().to(DEVICE), y.to(DEVICE)\n",
        "    outputs = model(x)\n",
        "    loss = criterion(outputs, y)\n",
        "    temp_loss.append(loss.item())\n",
        "\n",
        "    optimizer.zero_grad()\n",
        "    loss.backward()\n",
        "    optimizer.step()\n",
        "\n",
        "  print(\"Loss at {}th epoch: {}\".format(i, np.mean(temp_loss)))"
      ],
      "execution_count": 7,
      "outputs": [
        {
          "output_type": "stream",
          "name": "stdout",
          "text": [
            "Loss at 0th epoch: 2.3852063609511043\n",
            "Loss at 1th epoch: 2.311342030230081\n",
            "Loss at 2th epoch: 2.3107877853886247\n"
          ]
        }
      ]
    }
  ]
}