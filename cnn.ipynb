{
  "nbformat": 4,
  "nbformat_minor": 0,
  "metadata": {
    "colab": {
      "name": "DL-with-pytorch - 4 [CNN].ipynb",
      "provenance": []
    },
    "kernelspec": {
      "name": "python3",
      "display_name": "Python 3"
    },
    "accelerator": "GPU"
  },
  "cells": [
    {
      "metadata": {
        "id": "GVU5-yp3N89I"
      },
      "cell_type": "code",
      "source": [
        "!pip3 install torch torchvision\n",
        "!pip install ipdb"
      ],
      "execution_count": null,
      "outputs": []
    },
    {
      "metadata": {
        "id": "8yy37hEYOEiQ"
      },
      "cell_type": "code",
      "source": [
        "import numpy as np\n",
        "import pandas as pd\n",
        "import torch, torchvision\n",
        "import torch.nn as nn\n",
        "import torch.nn.functional as F\n",
        "import ipdb\n",
        "from torchvision import datasets\n",
        "import torchvision.transforms as transforms\n",
        "import random\n",
        "import matplotlib.pyplot as plt\n",
        "\n",
        "DEVICE = torch.device('cuda')"
      ],
      "execution_count": 18,
      "outputs": []
    },
    {
      "metadata": {
        "id": "W5anlYa01w3w"
      },
      "cell_type": "code",
      "source": [
        "train_dataset = datasets.CIFAR10(root = \"/\", train = True, download = True, transform = transforms.ToTensor())\n",
        "test_dataset = datasets.CIFAR10(root = \"/\", train = False, download = True, transform = transforms.ToTensor())\n",
        "\n",
        "train_loader = torch.utils.data.DataLoader(train_dataset, batch_size = 64, shuffle = True)\n",
        "test_loader = torch.utils.data.DataLoader(test_dataset, batch_size = 64, shuffle = False)"
      ],
      "execution_count": null,
      "outputs": []
    },
    {
      "cell_type": "code",
      "source": [
        "print('10个分类标签:', train_dataset.classes)\n",
        "img, label = train_dataset[random.randint(0,len(train_dataset))] ## 随机取一张图片\n",
        "print('图片矩阵的形状是:', img.shape) # 3个RGB维度 * 32 长 * 32 宽\n",
        "print('对应的标签是:', train_dataset.classes[label])\n",
        "\n",
        "## 图片打印出来看看\n",
        "img0 = torchvision.utils.make_grid(img)\n",
        "img1 = img0 / 2 + 0.5\n",
        "img2 = img1.numpy()\n",
        "img3 = np.transpose(img2, (1,2,0))\n",
        "plt.figure(figsize=(1,1))\n",
        "plt.imshow(img3)"
      ],
      "metadata": {
        "colab": {
          "base_uri": "https://localhost:8080/",
          "height": 213
        },
        "id": "VBQrv6EXf2Le",
        "outputId": "3d8279d3-81be-4bd8-844c-dbb35b41a13f"
      },
      "execution_count": 24,
      "outputs": [
        {
          "output_type": "stream",
          "name": "stdout",
          "text": [
            "10个分类标签: ['airplane', 'automobile', 'bird', 'cat', 'deer', 'dog', 'frog', 'horse', 'ship', 'truck']\n",
            "图片矩阵的形状是: torch.Size([3, 32, 32])\n",
            "对应的标签是: ship\n"
          ]
        },
        {
          "output_type": "execute_result",
          "data": {
            "text/plain": [
              "<matplotlib.image.AxesImage at 0x7f68a560bca0>"
            ]
          },
          "metadata": {},
          "execution_count": 24
        },
        {
          "output_type": "display_data",
          "data": {
            "text/plain": [
              "<Figure size 100x100 with 1 Axes>"
            ],
            "image/png": "[encoded data removed]"
          },
          "metadata": {}
        }
      ]
    },
    {
      "metadata": {
        "id": "AQawpMRPI7jm"
      },
      "cell_type": "code",
      "source": [
        "class net(nn.Module):\n",
        "  def __init__(self):\n",
        "    super(net, self).__init__()\n",
        "\n",
        "    self.conv = nn.Conv2d(in_channels=3, out_channels=18, kernel_size = 3, stride = 1) #\n",
        "    self.pool = nn.MaxPool2d(kernel_size = 3, stride = 1) # 3核\n",
        "    self.relu = nn.ReLU()\n",
        "    self.dense = nn.Linear(14112, 10)\n",
        "\n",
        "  def forward(self, x):\n",
        "    # x 形状为 64,3,32,32\n",
        "    #ipdb.set_trace()\n",
        "    x = self.conv(x) # x = 64,18,30,30\n",
        "    x = self.relu(x) # x = 64,18,30,30\n",
        "    x = self.pool(x) # x = 64,18,28,28\n",
        "    x = x.view(x.size(0), -1)   # x = 64,14112\n",
        "    x = self.dense(x)\n",
        "    return x"
      ],
      "execution_count": 11,
      "outputs": []
    },
    {
      "metadata": {
        "id": "cPBm8qDrSWsi"
      },
      "cell_type": "code",
      "source": [
        "model = net().to(DEVICE)\n",
        "criterion = nn.CrossEntropyLoss()   # do not need softmax layer when using CEloss criterion\n",
        "optimizer = torch.optim.Adam(model.parameters(), lr = 1e-1)"
      ],
      "execution_count": 13,
      "outputs": []
    },
    {
      "metadata": {
        "id": "SEBtAPYCFeic",
        "outputId": "4019f815-4ef6-4216-f0b9-052e96b7463c",
        "colab": {
          "base_uri": "https://localhost:8080/"
        }
      },
      "cell_type": "code",
      "source": [
        "# training for NUM_EPOCHS\n",
        "for i in range(10):\n",
        "  temp_loss = []\n",
        "  for (x, y) in train_loader:\n",
        "    x, y = x.float().to(DEVICE), y.to(DEVICE)\n",
        "    outputs = model(x)\n",
        "    loss = criterion(outputs, y)\n",
        "    temp_loss.append(loss.item())\n",
        "\n",
        "    optimizer.zero_grad()\n",
        "    loss.backward()\n",
        "    optimizer.step()\n",
        "\n",
        "  print(\"Loss at {}th epoch: {}\".format(i, np.mean(temp_loss)))"
      ],
      "execution_count": 14,
      "outputs": [
        {
          "output_type": "stream",
          "name": "stdout",
          "text": [
            "Loss at 0th epoch: 2.374119226280076\n",
            "Loss at 1th epoch: 2.3115928453557633\n",
            "Loss at 2th epoch: 2.311867415752557\n",
            "Loss at 3th epoch: 2.3118735710373315\n",
            "Loss at 4th epoch: 2.3114872686088543\n",
            "Loss at 5th epoch: 2.3114832124441786\n",
            "Loss at 6th epoch: 2.3120057717003784\n",
            "Loss at 7th epoch: 2.3120446119771896\n",
            "Loss at 8th epoch: 2.312008179667051\n",
            "Loss at 9th epoch: 2.311837716785538\n"
          ]
        }
      ]
    },
    {
      "metadata": {
        "id": "txXH3dknFpSx",
        "outputId": "57f5badd-4c72-4b98-e356-a2d6bc632984",
        "colab": {
          "base_uri": "https://localhost:8080/"
        }
      },
      "cell_type": "code",
      "source": [
        "y_pred, y_true = [], []\n",
        "with torch.no_grad():\n",
        "  for x, y in test_loader:\n",
        "    x, y = x.float().to(DEVICE), y.to(DEVICE)\n",
        "    outputs = F.softmax(model(x)).max(1)[-1]       # predicted label\n",
        "    y_true += list(y.cpu().numpy())                # true label\n",
        "    y_pred += list(outputs.cpu().numpy())"
      ],
      "execution_count": 15,
      "outputs": [
        {
          "output_type": "stream",
          "name": "stderr",
          "text": [
            "<ipython-input-15-e8f9d04bf627>:5: UserWarning: Implicit dimension choice for softmax has been deprecated. Change the call to include dim=X as an argument.\n",
            "  outputs = F.softmax(model(x)).max(1)[-1]       # predicted label\n"
          ]
        }
      ]
    },
    {
      "metadata": {
        "id": "HV1s3xf5Frkl",
        "outputId": "86fd17e7-312f-4d71-919b-2c0b87cbcfce",
        "colab": {
          "base_uri": "https://localhost:8080/"
        }
      },
      "cell_type": "code",
      "source": [
        "# evaluation result\n",
        "from sklearn.metrics import accuracy_score\n",
        "accuracy_score(y_true, y_pred)"
      ],
      "execution_count": 16,
      "outputs": [
        {
          "output_type": "execute_result",
          "data": {
            "text/plain": [
              "0.1"
            ]
          },
          "metadata": {},
          "execution_count": 16
        }
      ]
    }
  ]
}