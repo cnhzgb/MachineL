{
  "nbformat": 4,
  "nbformat_minor": 0,
  "metadata": {
    "colab": {
      "provenance": [],
      "gpuType": "T4",
      "authorship_tag": "ABX9TyM49rVN0ieKk+mz0I/CRCm0",
      "include_colab_link": true
    },
    "kernelspec": {
      "name": "python3",
      "display_name": "Python 3"
    },
    "language_info": {
      "name": "python"
    },
    "accelerator": "GPU"
  },
  "cells": [
    {
      "cell_type": "markdown",
      "metadata": {
        "id": "view-in-github",
        "colab_type": "text"
      },
      "source": [
        "<a href=\"https://colab.research.google.com/github/cnhzgb/MachineL/blob/main/CNN_MNIST.ipynb\" target=\"_parent\"><img src=\"https://colab.research.google.com/assets/colab-badge.svg\" alt=\"Open In Colab\"/></a>"
      ]
    },
    {
      "cell_type": "code",
      "execution_count": 1,
      "metadata": {
        "id": "7JyY7NuECDB4",
        "outputId": "4f7e1e8b-e41b-4efd-be55-8439a720d874",
        "colab": {
          "base_uri": "https://localhost:8080/"
        }
      },
      "outputs": [
        {
          "output_type": "stream",
          "name": "stdout",
          "text": [
            "Downloading http://yann.lecun.com/exdb/mnist/train-images-idx3-ubyte.gz\n",
            "Downloading http://yann.lecun.com/exdb/mnist/train-images-idx3-ubyte.gz to dataset/MNIST/raw/train-images-idx3-ubyte.gz\n"
          ]
        },
        {
          "output_type": "stream",
          "name": "stderr",
          "text": [
            "100%|██████████| 9912422/9912422 [00:00<00:00, 93721734.60it/s]\n"
          ]
        },
        {
          "output_type": "stream",
          "name": "stdout",
          "text": [
            "Extracting dataset/MNIST/raw/train-images-idx3-ubyte.gz to dataset/MNIST/raw\n",
            "\n",
            "Downloading http://yann.lecun.com/exdb/mnist/train-labels-idx1-ubyte.gz\n",
            "Downloading http://yann.lecun.com/exdb/mnist/train-labels-idx1-ubyte.gz to dataset/MNIST/raw/train-labels-idx1-ubyte.gz\n"
          ]
        },
        {
          "output_type": "stream",
          "name": "stderr",
          "text": [
            "100%|██████████| 28881/28881 [00:00<00:00, 19897452.99it/s]\n"
          ]
        },
        {
          "output_type": "stream",
          "name": "stdout",
          "text": [
            "Extracting dataset/MNIST/raw/train-labels-idx1-ubyte.gz to dataset/MNIST/raw\n",
            "\n",
            "Downloading http://yann.lecun.com/exdb/mnist/t10k-images-idx3-ubyte.gz\n",
            "Downloading http://yann.lecun.com/exdb/mnist/t10k-images-idx3-ubyte.gz to dataset/MNIST/raw/t10k-images-idx3-ubyte.gz\n"
          ]
        },
        {
          "output_type": "stream",
          "name": "stderr",
          "text": [
            "100%|██████████| 1648877/1648877 [00:00<00:00, 23754195.16it/s]\n"
          ]
        },
        {
          "output_type": "stream",
          "name": "stdout",
          "text": [
            "Extracting dataset/MNIST/raw/t10k-images-idx3-ubyte.gz to dataset/MNIST/raw\n",
            "\n",
            "Downloading http://yann.lecun.com/exdb/mnist/t10k-labels-idx1-ubyte.gz\n",
            "Downloading http://yann.lecun.com/exdb/mnist/t10k-labels-idx1-ubyte.gz to dataset/MNIST/raw/t10k-labels-idx1-ubyte.gz\n"
          ]
        },
        {
          "output_type": "stream",
          "name": "stderr",
          "text": [
            "100%|██████████| 4542/4542 [00:00<00:00, 4359388.73it/s]"
          ]
        },
        {
          "output_type": "stream",
          "name": "stdout",
          "text": [
            "Extracting dataset/MNIST/raw/t10k-labels-idx1-ubyte.gz to dataset/MNIST/raw\n",
            "\n"
          ]
        },
        {
          "output_type": "stream",
          "name": "stderr",
          "text": [
            "\n"
          ]
        },
        {
          "output_type": "stream",
          "name": "stdout",
          "text": [
            "torch.Size([100, 1, 28, 28]) torch.Size([100])\n"
          ]
        }
      ],
      "source": [
        "import torch\n",
        "import torch.nn as nn\n",
        "import torch.optim as optim\n",
        "import torchvision\n",
        "import torchvision.datasets as datasets\n",
        "from torch.utils.data import DataLoader\n",
        "import torchvision.transforms as transforms\n",
        "import matplotlib.pyplot as plt\n",
        "import numpy as np\n",
        "\n",
        "device = \"cuda\" if torch.cuda.is_available() else \"cpu\"\n",
        "\n",
        "trans = transforms.Compose([transforms.ToTensor(), transforms.Normalize(mean=[0.5],std=[0.5])])\n",
        "dataset = datasets.MNIST(root=\"dataset/\", transform=trans, download=True, train=True) # 6W张图片\n",
        "loader = DataLoader(dataset, batch_size=100, shuffle=True)\n",
        "batch_num,(image, label) = next(enumerate(loader))\n",
        "print(image.shape, label.shape) # 100,1,28,28 ; 100"
      ]
    },
    {
      "cell_type": "code",
      "source": [
        "class net(nn.Module):\n",
        "  def __init__(self):\n",
        "    super(net, self).__init__()\n",
        "    self.conv1 = nn.Conv2d(in_channels=1, out_channels=32, kernel_size = 3, stride = 1, padding = 1)\n",
        "    self.conv2 = nn.Conv2d(in_channels=32, out_channels=64, kernel_size = 3, stride = 1, padding = 1)\n",
        "    self.pool = nn.MaxPool2d(kernel_size = 2, stride = 2)\n",
        "    self.relu = nn.ReLU()\n",
        "    self.fc1 = nn.Linear(3136, 512)\n",
        "    self.fc2 = nn.Linear(512, 10)\n",
        "\n",
        "  def forward(self, x): # 100,1,28,28\n",
        "    x = self.relu(self.conv1(x)) # => 100,32,28,28\n",
        "    x = self.pool(x) # => 100,32,14,14\n",
        "    x = self.relu(self.conv2(x)) # => 100,64,14,14\n",
        "    x = self.pool(x) # => 100,64,7,7\n",
        "    x = x.view(x.size(0), -1) # => 100,3136\n",
        "    x = self.relu(self.fc1(x)) # => 100,512\n",
        "    x = self.fc2(x) # => 100,10\n",
        "    return x\n",
        "\n",
        "model = net().to(device)\n",
        "criterion = nn.CrossEntropyLoss()\n",
        "optimizer = torch.optim.Adam(model.parameters(), lr = 1e-4)"
      ],
      "metadata": {
        "id": "Fm-vKBCpQ966"
      },
      "execution_count": 2,
      "outputs": []
    },
    {
      "cell_type": "code",
      "source": [
        "for epoch in range(1,4):\n",
        "  total_loss = []\n",
        "  errorTotal = 0\n",
        "  for batch_idx, (img, label) in enumerate(loader):\n",
        "    img = img.to(device)\n",
        "    label = label.to(device)\n",
        "    outputs = model(img)\n",
        "    loss = criterion(outputs, label)\n",
        "\n",
        "    optimizer.zero_grad()\n",
        "    loss.backward()\n",
        "    optimizer.step()\n",
        "\n",
        "    total_loss.append(loss.item())\n",
        "    maxV,maxIdx = outputs.max(dim=1)\n",
        "    errorNum = torch.sum(torch.ne(maxIdx, label)).item()\n",
        "    errorTotal += errorNum\n",
        "\n",
        "    if(batch_idx % 100 == 99):\n",
        "      print(\"epoch:{} batch:{} loss:{:.2f} mean:{:.2f} error:{}/100 errorTotal:{}/{} {:.2f}%\".format(epoch, batch_idx, loss, np.mean(total_loss), errorNum, errorTotal, (batch_idx+1)*100, errorTotal/(batch_idx+1)))"
      ],
      "metadata": {
        "id": "efm8ASvZX9DS",
        "outputId": "e601aa3c-868f-448f-dc4f-d614d1962487",
        "colab": {
          "base_uri": "https://localhost:8080/"
        }
      },
      "execution_count": 3,
      "outputs": [
        {
          "output_type": "stream",
          "name": "stdout",
          "text": [
            "epoch:1 batch:99 loss:0.60 mean:1.42 error:17/100 errorTotal:3332/10000 33.32%\n",
            "epoch:1 batch:199 loss:0.36 mean:0.92 error:11/100 errorTotal:4491/20000 22.45%\n",
            "epoch:1 batch:299 loss:0.19 mean:0.71 error:4/100 errorTotal:5373/30000 17.91%\n",
            "epoch:1 batch:399 loss:0.21 mean:0.59 error:7/100 errorTotal:6035/40000 15.09%\n",
            "epoch:1 batch:499 loss:0.12 mean:0.52 error:3/100 errorTotal:6621/50000 13.24%\n",
            "epoch:1 batch:599 loss:0.12 mean:0.46 error:4/100 errorTotal:7106/60000 11.84%\n",
            "epoch:2 batch:99 loss:0.15 mean:0.15 error:4/100 errorTotal:431/10000 4.31%\n",
            "epoch:2 batch:199 loss:0.13 mean:0.14 error:3/100 errorTotal:815/20000 4.08%\n",
            "epoch:2 batch:299 loss:0.06 mean:0.13 error:1/100 errorTotal:1176/30000 3.92%\n",
            "epoch:2 batch:399 loss:0.07 mean:0.13 error:3/100 errorTotal:1477/40000 3.69%\n",
            "epoch:2 batch:499 loss:0.09 mean:0.12 error:4/100 errorTotal:1744/50000 3.49%\n",
            "epoch:2 batch:599 loss:0.12 mean:0.12 error:4/100 errorTotal:2014/60000 3.36%\n",
            "epoch:3 batch:99 loss:0.04 mean:0.09 error:1/100 errorTotal:270/10000 2.70%\n",
            "epoch:3 batch:199 loss:0.06 mean:0.09 error:2/100 errorTotal:512/20000 2.56%\n",
            "epoch:3 batch:299 loss:0.04 mean:0.08 error:2/100 errorTotal:722/30000 2.41%\n",
            "epoch:3 batch:399 loss:0.04 mean:0.08 error:2/100 errorTotal:941/40000 2.35%\n",
            "epoch:3 batch:499 loss:0.06 mean:0.08 error:2/100 errorTotal:1160/50000 2.32%\n",
            "epoch:3 batch:599 loss:0.05 mean:0.08 error:2/100 errorTotal:1367/60000 2.28%\n"
          ]
        }
      ]
    },
    {
      "cell_type": "code",
      "source": [
        "trans_test = transforms.Compose([transforms.ToTensor(), transforms.Normalize(mean=[0.5],std=[0.5])])\n",
        "dataset_test = datasets.MNIST(root=\"dataset/\", transform=trans_test, download=True, train=False) # 1W张图片\n",
        "loader_test = DataLoader(dataset_test, batch_size=100, shuffle=True)\n",
        "criterion_test = nn.CrossEntropyLoss()"
      ],
      "metadata": {
        "id": "kt4jHDogpido"
      },
      "execution_count": 4,
      "outputs": []
    },
    {
      "cell_type": "code",
      "source": [
        "total_loss = []\n",
        "errorTotal = 0\n",
        "for batch_idx, (img, label) in enumerate(loader_test): # 1W张图片, 100批, 100,1,28,28\n",
        "  img = img.to(device)\n",
        "  label = label.to(device)\n",
        "\n",
        "  output = model(img)\n",
        "  loss = criterion_test(output, label)\n",
        "  total_loss.append(loss.item())\n",
        "\n",
        "  maxV,maxIdx = output.max(dim=1)\n",
        "  errorNum = torch.sum(torch.ne(maxIdx, label)).item()\n",
        "  errorTotal += errorNum\n",
        "\n",
        "  noMatchIdx = torch.nonzero(torch.ne(maxIdx, label)).view(-1)\n",
        "\n",
        "  if(batch_idx % 10 == 9 and errorNum > 0):\n",
        "    print(\"batch:{} loss:{:.2f} mean:{:.2f} error:{}/100 errorTotal:{}/{} {:.2f}%\".format(batch_idx, loss, np.mean(total_loss), errorNum, errorTotal, (batch_idx+1)*100, errorTotal/(batch_idx+1)))\n",
        "\n",
        "    fig, axs = plt.subplots(nrows = 1, ncols = errorNum, figsize=(errorNum, 1))\n",
        "    if not isinstance(axs, np.ndarray):\n",
        "      axs = [axs]\n",
        "    for i in range(errorNum):\n",
        "      ax = axs[i]\n",
        "      idx = noMatchIdx[i]\n",
        "      ax.imshow(img[idx][0].cpu(), cmap='gray')\n",
        "      ax.set_title('p{} t{}'.format(maxIdx[idx], label[idx]), fontsize=8)\n",
        "    plt.tight_layout()\n",
        "    plt.show()"
      ],
      "metadata": {
        "id": "TVwrKRYmQ4pa",
        "outputId": "5c3a7717-00fa-4621-b2cc-f12f23b35d62",
        "colab": {
          "base_uri": "https://localhost:8080/",
          "height": 915
        }
      },
      "execution_count": 7,
      "outputs": [
        {
          "output_type": "stream",
          "name": "stdout",
          "text": [
            "batch:9 loss:0.08 mean:0.06 error:3/100 errorTotal:15/1000 1.50%\n"
          ]
        },
        {
          "output_type": "display_data",
          "data": {
            "text/plain": [
              "<Figure size 300x100 with 3 Axes>"
            ],
            "image/png": "[encoded data removed]"
          },
          "metadata": {}
        },
        {
          "output_type": "stream",
          "name": "stdout",
          "text": [
            "batch:19 loss:0.06 mean:0.07 error:1/100 errorTotal:36/2000 1.80%\n"
          ]
        },
        {
          "output_type": "display_data",
          "data": {
            "text/plain": [
              "<Figure size 100x100 with 1 Axes>"
            ],
            "image/png": "[encoded data removed]"
          },
          "metadata": {}
        },
        {
          "output_type": "stream",
          "name": "stdout",
          "text": [
            "batch:39 loss:0.05 mean:0.06 error:1/100 errorTotal:72/4000 1.80%\n"
          ]
        },
        {
          "output_type": "display_data",
          "data": {
            "text/plain": [
              "<Figure size 100x100 with 1 Axes>"
            ],
            "image/png": "[encoded data removed]"
          },
          "metadata": {}
        },
        {
          "output_type": "stream",
          "name": "stdout",
          "text": [
            "batch:59 loss:0.07 mean:0.06 error:3/100 errorTotal:113/6000 1.88%\n"
          ]
        },
        {
          "output_type": "display_data",
          "data": {
            "text/plain": [
              "<Figure size 300x100 with 3 Axes>"
            ],
            "image/png": "[encoded data removed]"
          },
          "metadata": {}
        },
        {
          "output_type": "stream",
          "name": "stdout",
          "text": [
            "batch:69 loss:0.08 mean:0.06 error:5/100 errorTotal:131/7000 1.87%\n"
          ]
        },
        {
          "output_type": "display_data",
          "data": {
            "text/plain": [
              "<Figure size 500x100 with 5 Axes>"
            ],
            "image/png": "[encoded data removed]"
          },
          "metadata": {}
        },
        {
          "output_type": "stream",
          "name": "stdout",
          "text": [
            "batch:79 loss:0.06 mean:0.06 error:2/100 errorTotal:153/8000 1.91%\n"
          ]
        },
        {
          "output_type": "display_data",
          "data": {
            "text/plain": [
              "<Figure size 200x100 with 2 Axes>"
            ],
            "image/png": "[encoded data removed]"
          },
          "metadata": {}
        },
        {
          "output_type": "stream",
          "name": "stdout",
          "text": [
            "batch:89 loss:0.04 mean:0.06 error:2/100 errorTotal:178/9000 1.98%\n"
          ]
        },
        {
          "output_type": "display_data",
          "data": {
            "text/plain": [
              "<Figure size 200x100 with 2 Axes>"
            ],
            "image/png": "[encoded data removed]"
          },
          "metadata": {}
        },
        {
          "output_type": "stream",
          "name": "stdout",
          "text": [
            "batch:99 loss:0.03 mean:0.06 error:1/100 errorTotal:203/10000 2.03%\n"
          ]
        },
        {
          "output_type": "display_data",
          "data": {
            "text/plain": [
              "<Figure size 100x100 with 1 Axes>"
            ],
            "image/png": "[encoded data removed]"
          },
          "metadata": {}
        }
      ]
    }
  ]
}