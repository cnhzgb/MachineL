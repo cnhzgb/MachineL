{
  "nbformat": 4,
  "nbformat_minor": 0,
  "metadata": {
    "colab": {
      "provenance": [],
      "gpuType": "T4",
      "authorship_tag": "ABX9TyPFIaNC2mTFCO55fLDwh2VF",
      "include_colab_link": true
    },
    "kernelspec": {
      "name": "python3",
      "display_name": "Python 3"
    },
    "language_info": {
      "name": "python"
    },
    "accelerator": "GPU"
  },
  "cells": [
    {
      "cell_type": "markdown",
      "metadata": {
        "id": "view-in-github",
        "colab_type": "text"
      },
      "source": [
        "<a href=\"https://colab.research.google.com/github/cnhzgb/MachineL/blob/main/VGG16_CIFAR10.ipynb\" target=\"_parent\"><img src=\"https://colab.research.google.com/assets/colab-badge.svg\" alt=\"Open In Colab\"/></a>"
      ]
    },
    {
      "cell_type": "code",
      "source": [
        "!pip install ipdb\n",
        "!pip install einops\n",
        "import ipdb\n",
        "import torch\n",
        "import torch.nn as nn\n",
        "import torch.nn.functional as F\n",
        "import torch.optim as optim\n",
        "import torchvision\n",
        "import torchvision.datasets as datasets\n",
        "from torch.utils.data import DataLoader\n",
        "import torchvision.transforms as transforms\n",
        "import matplotlib.pyplot as plt\n",
        "import numpy as np\n",
        "from einops import rearrange\n",
        "from torchsummary import summary\n",
        "\n",
        "device = \"cuda\" if torch.cuda.is_available() else \"cpu\""
      ],
      "metadata": {
        "id": "hofQlMWWYHNt",
        "colab": {
          "base_uri": "https://localhost:8080/"
        },
        "outputId": "579f88c9-3264-498f-d9a9-08a3125f135f"
      },
      "execution_count": 1,
      "outputs": [
        {
          "output_type": "stream",
          "name": "stdout",
          "text": [
            "Collecting ipdb\n",
            "  Downloading ipdb-0.13.13-py3-none-any.whl (12 kB)\n",
            "Requirement already satisfied: ipython>=7.31.1 in /usr/local/lib/python3.10/dist-packages (from ipdb) (7.34.0)\n",
            "Requirement already satisfied: tomli in /usr/local/lib/python3.10/dist-packages (from ipdb) (2.0.1)\n",
            "Requirement already satisfied: decorator in /usr/local/lib/python3.10/dist-packages (from ipdb) (4.4.2)\n",
            "Requirement already satisfied: setuptools>=18.5 in /usr/local/lib/python3.10/dist-packages (from ipython>=7.31.1->ipdb) (67.7.2)\n",
            "Collecting jedi>=0.16 (from ipython>=7.31.1->ipdb)\n",
            "  Downloading jedi-0.18.2-py2.py3-none-any.whl (1.6 MB)\n",
            "\u001b[2K     \u001b[90m━━━━━━━━━━━━━━━━━━━━━━━━━━━━━━━━━━━━━━━━\u001b[0m \u001b[32m1.6/1.6 MB\u001b[0m \u001b[31m18.9 MB/s\u001b[0m eta \u001b[36m0:00:00\u001b[0m\n",
            "\u001b[?25hRequirement already satisfied: pickleshare in /usr/local/lib/python3.10/dist-packages (from ipython>=7.31.1->ipdb) (0.7.5)\n",
            "Requirement already satisfied: traitlets>=4.2 in /usr/local/lib/python3.10/dist-packages (from ipython>=7.31.1->ipdb) (5.7.1)\n",
            "Requirement already satisfied: prompt-toolkit!=3.0.0,!=3.0.1,<3.1.0,>=2.0.0 in /usr/local/lib/python3.10/dist-packages (from ipython>=7.31.1->ipdb) (3.0.39)\n",
            "Requirement already satisfied: pygments in /usr/local/lib/python3.10/dist-packages (from ipython>=7.31.1->ipdb) (2.14.0)\n",
            "Requirement already satisfied: backcall in /usr/local/lib/python3.10/dist-packages (from ipython>=7.31.1->ipdb) (0.2.0)\n",
            "Requirement already satisfied: matplotlib-inline in /usr/local/lib/python3.10/dist-packages (from ipython>=7.31.1->ipdb) (0.1.6)\n",
            "Requirement already satisfied: pexpect>4.3 in /usr/local/lib/python3.10/dist-packages (from ipython>=7.31.1->ipdb) (4.8.0)\n",
            "Requirement already satisfied: parso<0.9.0,>=0.8.0 in /usr/local/lib/python3.10/dist-packages (from jedi>=0.16->ipython>=7.31.1->ipdb) (0.8.3)\n",
            "Requirement already satisfied: ptyprocess>=0.5 in /usr/local/lib/python3.10/dist-packages (from pexpect>4.3->ipython>=7.31.1->ipdb) (0.7.0)\n",
            "Requirement already satisfied: wcwidth in /usr/local/lib/python3.10/dist-packages (from prompt-toolkit!=3.0.0,!=3.0.1,<3.1.0,>=2.0.0->ipython>=7.31.1->ipdb) (0.2.6)\n",
            "Installing collected packages: jedi, ipdb\n",
            "Successfully installed ipdb-0.13.13 jedi-0.18.2\n",
            "Collecting einops\n",
            "  Downloading einops-0.6.1-py3-none-any.whl (42 kB)\n",
            "\u001b[2K     \u001b[90m━━━━━━━━━━━━━━━━━━━━━━━━━━━━━━━━━━━━━━━\u001b[0m \u001b[32m42.2/42.2 kB\u001b[0m \u001b[31m643.1 kB/s\u001b[0m eta \u001b[36m0:00:00\u001b[0m\n",
            "\u001b[?25hInstalling collected packages: einops\n",
            "Successfully installed einops-0.6.1\n"
          ]
        }
      ]
    },
    {
      "cell_type": "code",
      "execution_count": 3,
      "metadata": {
        "id": "7JyY7NuECDB4",
        "outputId": "522d094e-6120-4c0c-8532-844c1d945a37",
        "colab": {
          "base_uri": "https://localhost:8080/"
        }
      },
      "outputs": [
        {
          "output_type": "stream",
          "name": "stdout",
          "text": [
            "Downloading https://www.cs.toronto.edu/~kriz/cifar-10-python.tar.gz to dataset/cifar-10-python.tar.gz\n"
          ]
        },
        {
          "output_type": "stream",
          "name": "stderr",
          "text": [
            "100%|██████████| 170498071/170498071 [00:14<00:00, 11927191.85it/s]\n"
          ]
        },
        {
          "output_type": "stream",
          "name": "stdout",
          "text": [
            "Extracting dataset/cifar-10-python.tar.gz to dataset/\n",
            "10 50000 torch.Size([100, 3, 224, 224]) torch.Size([100])\n",
            "Files already downloaded and verified\n"
          ]
        }
      ],
      "source": [
        "trans = transforms.Compose([transforms.Resize((224, 224)), transforms.ToTensor(), transforms.Normalize((0.5,0.5,0.5),(0.5,0.5,0.5))]) # transforms.RandomHorizontalFlip(), transforms.RandomGrayscale()\n",
        "dataset = datasets.CIFAR10(root=\"dataset/\", transform=trans, download=True, train=True) # 5W张图片, 10种分类\n",
        "loader = DataLoader(dataset, batch_size=100, shuffle=True)\n",
        "batch_num,(image, label) = next(enumerate(loader))\n",
        "print(len(dataset.classes), len(dataset), image.shape, label.shape) # 10; 5W; 100,3,32,32; 100\n",
        "\n",
        "trans_test = transforms.Compose([transforms.Resize((224, 224)), transforms.ToTensor(), transforms.Normalize((0.5,0.5,0.5),(0.5,0.5,0.5))])\n",
        "dataset_test = datasets.CIFAR10(root=\"dataset/\", transform=trans_test, download=True, train=False) # 1W张图片\n",
        "loader_test = DataLoader(dataset_test, batch_size=100, shuffle=True)\n",
        "criterion_test = nn.CrossEntropyLoss()"
      ]
    },
    {
      "cell_type": "code",
      "source": [
        "# https://zhuanlan.zhihu.com/p/87555358\n",
        "class Net(nn.Module):\n",
        "\n",
        "    def __init__(self):\n",
        "        super(Net,self).__init__()\n",
        "        self.conv1 = nn.Conv2d(3,64,3,padding=1)\n",
        "        self.conv2 = nn.Conv2d(64,64,3,padding=1)\n",
        "        self.pool1 = nn.MaxPool2d(2, 2)\n",
        "        self.bn1 = nn.BatchNorm2d(64)\n",
        "\n",
        "        self.conv3 = nn.Conv2d(64,128,3,padding=1)\n",
        "        self.conv4 = nn.Conv2d(128, 128, 3,padding=1)\n",
        "        self.pool2 = nn.MaxPool2d(2, 2)\n",
        "        self.bn2 = nn.BatchNorm2d(128)\n",
        "\n",
        "        self.conv5 = nn.Conv2d(128, 256, 3, padding=1)\n",
        "        self.conv6 = nn.Conv2d(256, 256, 3,padding=1)\n",
        "        self.conv7 = nn.Conv2d(256, 256, 3,padding=1)\n",
        "        self.pool3 = nn.MaxPool2d(2, 2)\n",
        "        self.bn3 = nn.BatchNorm2d(256)\n",
        "\n",
        "        self.conv8 = nn.Conv2d(256, 512, 3,padding=1)\n",
        "        self.conv9 = nn.Conv2d(512, 512, 3, padding=1)\n",
        "        self.conv10 = nn.Conv2d(512, 512, 3, padding=1)\n",
        "        self.pool4 = nn.MaxPool2d(2, 2)\n",
        "        self.bn4 = nn.BatchNorm2d(512)\n",
        "\n",
        "        self.conv11 = nn.Conv2d(512, 512, 3, padding=1)\n",
        "        self.conv12 = nn.Conv2d(512, 512, 3, padding=1)\n",
        "        self.conv13 = nn.Conv2d(512, 512, 3, padding=1)\n",
        "        self.pool5 = nn.MaxPool2d(2, 2)\n",
        "        self.bn5 = nn.BatchNorm2d(512)\n",
        "\n",
        "        self.fc14 = nn.Linear(512*7*7,4096)\n",
        "        self.fc15 = nn.Linear(4096,4096)\n",
        "        self.fc16 = nn.Linear(4096,10)\n",
        "\n",
        "\n",
        "    def forward(self,x):\n",
        "        x = F.relu(self.conv1(x)) # => ,64,224,224\n",
        "        x = F.relu(self.conv2(x))\n",
        "        x = self.pool1(x) # => ,64,112,112\n",
        "        x = self.bn1(x)\n",
        "\n",
        "        x = F.relu(self.conv3(x)) # => ,128,112,112\n",
        "        x = F.relu(self.conv4(x))\n",
        "        x = self.pool2(x) # => ,128,56,56\n",
        "        x = self.bn2(x)\n",
        "\n",
        "        x = F.relu(self.conv5(x)) # => ,256,56,56\n",
        "        x = F.relu(self.conv6(x))\n",
        "        x = F.relu(self.conv7(x))\n",
        "        x = self.pool3(x) # => ,256,28,28\n",
        "        x = self.bn3(x)\n",
        "\n",
        "        x = F.relu(self.conv8(x)) # => ,512,28,28\n",
        "        x = F.relu(self.conv9(x))\n",
        "        x = F.relu(self.conv10(x))\n",
        "        x = self.pool4(x) # => ,512,14,14\n",
        "        x = self.bn4(x)\n",
        "\n",
        "        x = F.relu(self.conv11(x)) # => ,512,14,14\n",
        "        x = F.relu(self.conv12(x))\n",
        "        x = F.relu(self.conv13(x))\n",
        "        x = self.pool5(x) # => ,512,7,7\n",
        "        x = self.bn5(x)\n",
        "\n",
        "        x = x.view(-1,512*7*7)\n",
        "        x = F.relu(self.fc14(x)) # => 4096\n",
        "        x = F.dropout(x, p=0.5)\n",
        "        x = F.relu(self.fc15(x)) # => 4096\n",
        "        x = F.dropout(x, p=0.5)\n",
        "        x = self.fc16(x) # => 10\n",
        "\n",
        "        return x\n",
        "\n",
        "model = Net().to(device)\n",
        "criterion = nn.CrossEntropyLoss()\n",
        "optimizer = torch.optim.Adam(model.parameters(), lr = 1e-4)\n",
        "\n",
        "summary(model, (3,224,224))"
      ],
      "metadata": {
        "id": "Fm-vKBCpQ966",
        "colab": {
          "base_uri": "https://localhost:8080/"
        },
        "outputId": "434b057d-b6c1-420b-fb15-33ec1cc301a5"
      },
      "execution_count": 4,
      "outputs": [
        {
          "output_type": "stream",
          "name": "stdout",
          "text": [
            "----------------------------------------------------------------\n",
            "        Layer (type)               Output Shape         Param #\n",
            "================================================================\n",
            "            Conv2d-1         [-1, 64, 224, 224]           1,792\n",
            "            Conv2d-2         [-1, 64, 224, 224]          36,928\n",
            "         MaxPool2d-3         [-1, 64, 112, 112]               0\n",
            "       BatchNorm2d-4         [-1, 64, 112, 112]             128\n",
            "            Conv2d-5        [-1, 128, 112, 112]          73,856\n",
            "            Conv2d-6        [-1, 128, 112, 112]         147,584\n",
            "         MaxPool2d-7          [-1, 128, 56, 56]               0\n",
            "       BatchNorm2d-8          [-1, 128, 56, 56]             256\n",
            "            Conv2d-9          [-1, 256, 56, 56]         295,168\n",
            "           Conv2d-10          [-1, 256, 56, 56]         590,080\n",
            "           Conv2d-11          [-1, 256, 56, 56]         590,080\n",
            "        MaxPool2d-12          [-1, 256, 28, 28]               0\n",
            "      BatchNorm2d-13          [-1, 256, 28, 28]             512\n",
            "           Conv2d-14          [-1, 512, 28, 28]       1,180,160\n",
            "           Conv2d-15          [-1, 512, 28, 28]       2,359,808\n",
            "           Conv2d-16          [-1, 512, 28, 28]       2,359,808\n",
            "        MaxPool2d-17          [-1, 512, 14, 14]               0\n",
            "      BatchNorm2d-18          [-1, 512, 14, 14]           1,024\n",
            "           Conv2d-19          [-1, 512, 14, 14]       2,359,808\n",
            "           Conv2d-20          [-1, 512, 14, 14]       2,359,808\n",
            "           Conv2d-21          [-1, 512, 14, 14]       2,359,808\n",
            "        MaxPool2d-22            [-1, 512, 7, 7]               0\n",
            "      BatchNorm2d-23            [-1, 512, 7, 7]           1,024\n",
            "           Linear-24                 [-1, 4096]     102,764,544\n",
            "           Linear-25                 [-1, 4096]      16,781,312\n",
            "           Linear-26                   [-1, 10]          40,970\n",
            "================================================================\n",
            "Total params: 134,304,458\n",
            "Trainable params: 134,304,458\n",
            "Non-trainable params: 0\n",
            "----------------------------------------------------------------\n",
            "Input size (MB): 0.57\n",
            "Forward/backward pass size (MB): 126.77\n",
            "Params size (MB): 512.33\n",
            "Estimated Total Size (MB): 639.68\n",
            "----------------------------------------------------------------\n"
          ]
        }
      ]
    },
    {
      "cell_type": "code",
      "source": [
        "for epoch in range(1,10):\n",
        "  total_loss = []\n",
        "  errorTotal = 0\n",
        "  for batch_idx, (img, label) in enumerate(loader):\n",
        "    img = img.to(device)\n",
        "    label = label.to(device)\n",
        "    outputs = model(img)\n",
        "    loss = criterion(outputs, label)\n",
        "\n",
        "    optimizer.zero_grad()\n",
        "    loss.backward()\n",
        "    optimizer.step()\n",
        "\n",
        "    total_loss.append(loss.item())\n",
        "    maxV,maxIdx = outputs.max(dim=1)\n",
        "    errorNum = torch.sum(torch.ne(maxIdx, label)).item()\n",
        "    errorTotal += errorNum\n",
        "\n",
        "    if(batch_idx % 100 == 99):\n",
        "      print(\"epoch:{} batch:{} loss:{:.2f} mean:{:.2f} error:{}/100 errorTotal:{}/{} {:.2f}%\".format(\n",
        "          epoch, batch_idx, loss, np.mean(total_loss), errorNum, errorTotal, (batch_idx+1)*100, errorTotal/(batch_idx+1)))"
      ],
      "metadata": {
        "id": "efm8ASvZX9DS",
        "outputId": "492cd00d-ac57-46ed-ec08-fef39b4b3cf0",
        "colab": {
          "base_uri": "https://localhost:8080/",
          "height": 512
        }
      },
      "execution_count": 5,
      "outputs": [
        {
          "metadata": {
            "tags": null
          },
          "name": "stdout",
          "output_type": "stream",
          "text": [
            "epoch:1 batch:99 loss:1.57 mean:1.71 error:57/100 errorTotal:6218/10000 62.18%\n",
            "epoch:1 batch:199 loss:1.30 mean:1.56 error:46/100 errorTotal:11285/20000 56.42%\n",
            "epoch:1 batch:299 loss:1.32 mean:1.44 error:50/100 errorTotal:15606/30000 52.02%\n",
            "epoch:1 batch:399 loss:0.96 mean:1.34 error:37/100 errorTotal:19258/40000 48.15%\n",
            "epoch:1 batch:499 loss:0.85 mean:1.25 error:30/100 errorTotal:22491/50000 44.98%\n",
            "epoch:2 batch:99 loss:0.71 mean:0.77 error:25/100 errorTotal:2685/10000 26.85%\n",
            "epoch:2 batch:199 loss:0.70 mean:0.76 error:26/100 errorTotal:5315/20000 26.57%\n",
            "epoch:2 batch:299 loss:0.68 mean:0.75 error:22/100 errorTotal:7887/30000 26.29%\n",
            "epoch:2 batch:399 loss:0.61 mean:0.73 error:22/100 errorTotal:10268/40000 25.67%\n",
            "epoch:2 batch:499 loss:0.90 mean:0.72 error:35/100 errorTotal:12640/50000 25.28%\n",
            "epoch:3 batch:99 loss:0.59 mean:0.49 error:19/100 errorTotal:1683/10000 16.83%\n",
            "epoch:3 batch:199 loss:0.37 mean:0.49 error:16/100 errorTotal:3419/20000 17.09%\n",
            "epoch:3 batch:299 loss:0.47 mean:0.49 error:17/100 errorTotal:5156/30000 17.19%\n",
            "epoch:3 batch:399 loss:0.46 mean:0.49 error:18/100 errorTotal:6860/40000 17.15%\n",
            "epoch:3 batch:499 loss:0.51 mean:0.49 error:19/100 errorTotal:8484/50000 16.97%\n"
          ]
        },
        {
          "output_type": "error",
          "ename": "KeyboardInterrupt",
          "evalue": "ignored",
          "traceback": [
            "\u001b[0;31m---------------------------------------------------------------------------\u001b[0m",
            "\u001b[0;31mKeyboardInterrupt\u001b[0m                         Traceback (most recent call last)",
            "\u001b[0;32m<ipython-input-5-74204ae792b6>\u001b[0m in \u001b[0;36m<cell line: 1>\u001b[0;34m()\u001b[0m\n\u001b[1;32m     12\u001b[0m     \u001b[0moptimizer\u001b[0m\u001b[0;34m.\u001b[0m\u001b[0mstep\u001b[0m\u001b[0;34m(\u001b[0m\u001b[0;34m)\u001b[0m\u001b[0;34m\u001b[0m\u001b[0;34m\u001b[0m\u001b[0m\n\u001b[1;32m     13\u001b[0m \u001b[0;34m\u001b[0m\u001b[0m\n\u001b[0;32m---> 14\u001b[0;31m     \u001b[0mtotal_loss\u001b[0m\u001b[0;34m.\u001b[0m\u001b[0mappend\u001b[0m\u001b[0;34m(\u001b[0m\u001b[0mloss\u001b[0m\u001b[0;34m.\u001b[0m\u001b[0mitem\u001b[0m\u001b[0;34m(\u001b[0m\u001b[0;34m)\u001b[0m\u001b[0;34m)\u001b[0m\u001b[0;34m\u001b[0m\u001b[0;34m\u001b[0m\u001b[0m\n\u001b[0m\u001b[1;32m     15\u001b[0m     \u001b[0mmaxV\u001b[0m\u001b[0;34m,\u001b[0m\u001b[0mmaxIdx\u001b[0m \u001b[0;34m=\u001b[0m \u001b[0moutputs\u001b[0m\u001b[0;34m.\u001b[0m\u001b[0mmax\u001b[0m\u001b[0;34m(\u001b[0m\u001b[0mdim\u001b[0m\u001b[0;34m=\u001b[0m\u001b[0;36m1\u001b[0m\u001b[0;34m)\u001b[0m\u001b[0;34m\u001b[0m\u001b[0;34m\u001b[0m\u001b[0m\n\u001b[1;32m     16\u001b[0m     \u001b[0merrorNum\u001b[0m \u001b[0;34m=\u001b[0m \u001b[0mtorch\u001b[0m\u001b[0;34m.\u001b[0m\u001b[0msum\u001b[0m\u001b[0;34m(\u001b[0m\u001b[0mtorch\u001b[0m\u001b[0;34m.\u001b[0m\u001b[0mne\u001b[0m\u001b[0;34m(\u001b[0m\u001b[0mmaxIdx\u001b[0m\u001b[0;34m,\u001b[0m \u001b[0mlabel\u001b[0m\u001b[0;34m)\u001b[0m\u001b[0;34m)\u001b[0m\u001b[0;34m.\u001b[0m\u001b[0mitem\u001b[0m\u001b[0;34m(\u001b[0m\u001b[0;34m)\u001b[0m\u001b[0;34m\u001b[0m\u001b[0;34m\u001b[0m\u001b[0m\n",
            "\u001b[0;31mKeyboardInterrupt\u001b[0m: "
          ]
        }
      ]
    }
  ]
}